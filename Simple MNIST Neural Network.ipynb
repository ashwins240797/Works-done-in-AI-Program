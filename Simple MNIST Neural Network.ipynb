{
 "cells": [
  {
   "cell_type": "code",
   "execution_count": 1,
   "metadata": {},
   "outputs": [],
   "source": [
    "import tensorflow as tf"
   ]
  },
  {
   "cell_type": "code",
   "execution_count": 2,
   "metadata": {},
   "outputs": [],
   "source": [
    "#Collect the data\n",
    "(trainX,trainY),(testX,testY) = tf.keras.datasets.mnist.load_data()"
   ]
  },
  {
   "cell_type": "code",
   "execution_count": 3,
   "metadata": {},
   "outputs": [
    {
     "data": {
      "text/plain": [
       "(60000, 28, 28)"
      ]
     },
     "execution_count": 3,
     "metadata": {},
     "output_type": "execute_result"
    }
   ],
   "source": [
    "trainX.shape"
   ]
  },
  {
   "cell_type": "code",
   "execution_count": 4,
   "metadata": {},
   "outputs": [
    {
     "data": {
      "text/plain": [
       "(60000,)"
      ]
     },
     "execution_count": 4,
     "metadata": {},
     "output_type": "execute_result"
    }
   ],
   "source": [
    "trainY.shape"
   ]
  },
  {
   "cell_type": "code",
   "execution_count": 5,
   "metadata": {},
   "outputs": [],
   "source": [
    "#Convert output labels to multiple values\n",
    "trainY = tf.keras.utils.to_categorical(trainY,num_classes=10)\n",
    "testY = tf.keras.utils.to_categorical(testY,num_classes=10)"
   ]
  },
  {
   "cell_type": "code",
   "execution_count": 6,
   "metadata": {},
   "outputs": [],
   "source": [
    "##Build the graph\n",
    "\n",
    "#Instantiate sequential graph(model)\n",
    "model = tf.keras.models.Sequential()\n",
    "\n",
    "#Reshape dat from 2D -> 1D\n",
    "model.add(tf.keras.layers.Reshape((784,),input_shape=(28,28,)))\n",
    "\n",
    "#To avoid overfitting droput some neurons\n",
    "#tf.keras.layers.Dropout(0.5)\n",
    "\n",
    "#Normalize input data\n",
    "model.add(tf.keras.layers.BatchNormalization())\n",
    "\n",
    "\n",
    "#Normalize  again\n",
    "#model.add(tf.keras.layers.BatchNormalization())\n",
    "\n",
    "#Add 2nd Dense layer for prediction - keras declares weights & bias automatically\n",
    "model.add(tf.keras.layers.Dense(10,activation='tanh'))\n",
    "\n",
    "#Compile the model - add loss and Gradient Descent optimizer\n",
    "model.compile(optimizer='sgd',loss='mse',metrics=['accuracy'])"
   ]
  },
  {
   "cell_type": "code",
   "execution_count": 7,
   "metadata": {},
   "outputs": [
    {
     "name": "stdout",
     "output_type": "stream",
     "text": [
      "Epoch 1/50\n",
      "1875/1875 [==============================] - 3s 1ms/step - loss: 0.2530 - accuracy: 0.4476 - val_loss: 0.1311 - val_accuracy: 0.6822\n",
      "Epoch 2/50\n",
      "1875/1875 [==============================] - 1s 759us/step - loss: 0.0962 - accuracy: 0.6937 - val_loss: 0.0982 - val_accuracy: 0.7512\n",
      "Epoch 3/50\n",
      "1875/1875 [==============================] - 1s 729us/step - loss: 0.0727 - accuracy: 0.7505 - val_loss: 0.0817 - val_accuracy: 0.7794\n",
      "Epoch 4/50\n",
      "1875/1875 [==============================] - 1s 752us/step - loss: 0.0622 - accuracy: 0.7769 - val_loss: 0.0745 - val_accuracy: 0.8010\n",
      "Epoch 5/50\n",
      "1875/1875 [==============================] - 1s 773us/step - loss: 0.0562 - accuracy: 0.7945 - val_loss: 0.0691 - val_accuracy: 0.8106\n",
      "Epoch 6/50\n",
      "1875/1875 [==============================] - 2s 805us/step - loss: 0.0528 - accuracy: 0.8038 - val_loss: 0.0661 - val_accuracy: 0.8167\n",
      "Epoch 7/50\n",
      "1875/1875 [==============================] - 1s 756us/step - loss: 0.0504 - accuracy: 0.8136 - val_loss: 0.0621 - val_accuracy: 0.8237\n",
      "Epoch 8/50\n",
      "1875/1875 [==============================] - 1s 729us/step - loss: 0.0486 - accuracy: 0.8163 - val_loss: 0.0604 - val_accuracy: 0.8246\n",
      "Epoch 9/50\n",
      "1875/1875 [==============================] - 1s 762us/step - loss: 0.0475 - accuracy: 0.8238 - val_loss: 0.0588 - val_accuracy: 0.8282\n",
      "Epoch 10/50\n",
      "1875/1875 [==============================] - 1s 762us/step - loss: 0.0468 - accuracy: 0.8241 - val_loss: 0.0582 - val_accuracy: 0.8285\n",
      "Epoch 11/50\n",
      "1875/1875 [==============================] - 1s 758us/step - loss: 0.0460 - accuracy: 0.8259 - val_loss: 0.0568 - val_accuracy: 0.8266\n",
      "Epoch 12/50\n",
      "1875/1875 [==============================] - 1s 761us/step - loss: 0.0458 - accuracy: 0.8237 - val_loss: 0.0556 - val_accuracy: 0.8356\n",
      "Epoch 13/50\n",
      "1875/1875 [==============================] - 1s 771us/step - loss: 0.0455 - accuracy: 0.8269 - val_loss: 0.0552 - val_accuracy: 0.8389\n",
      "Epoch 14/50\n",
      "1875/1875 [==============================] - 1s 773us/step - loss: 0.0452 - accuracy: 0.8294 - val_loss: 0.0551 - val_accuracy: 0.8367\n",
      "Epoch 15/50\n",
      "1875/1875 [==============================] - 1s 754us/step - loss: 0.0448 - accuracy: 0.8327 - val_loss: 0.0544 - val_accuracy: 0.8356\n",
      "Epoch 16/50\n",
      "1875/1875 [==============================] - 1s 717us/step - loss: 0.0449 - accuracy: 0.8305 - val_loss: 0.0536 - val_accuracy: 0.8341\n",
      "Epoch 17/50\n",
      "1875/1875 [==============================] - 1s 775us/step - loss: 0.0446 - accuracy: 0.8326 - val_loss: 0.0530 - val_accuracy: 0.8362\n",
      "Epoch 18/50\n",
      "1875/1875 [==============================] - 1s 751us/step - loss: 0.0443 - accuracy: 0.8341 - val_loss: 0.0528 - val_accuracy: 0.8370\n",
      "Epoch 19/50\n",
      "1875/1875 [==============================] - 1s 744us/step - loss: 0.0447 - accuracy: 0.8288 - val_loss: 0.0529 - val_accuracy: 0.8379\n",
      "Epoch 20/50\n",
      "1875/1875 [==============================] - 1s 758us/step - loss: 0.0444 - accuracy: 0.8320 - val_loss: 0.0530 - val_accuracy: 0.8374\n",
      "Epoch 21/50\n",
      "1875/1875 [==============================] - 1s 745us/step - loss: 0.0441 - accuracy: 0.8319 - val_loss: 0.0525 - val_accuracy: 0.8332\n",
      "Epoch 22/50\n",
      "1875/1875 [==============================] - 1s 761us/step - loss: 0.0442 - accuracy: 0.8315 - val_loss: 0.0518 - val_accuracy: 0.8379\n",
      "Epoch 23/50\n",
      "1875/1875 [==============================] - 1s 748us/step - loss: 0.0441 - accuracy: 0.8353 - val_loss: 0.0521 - val_accuracy: 0.8345\n",
      "Epoch 24/50\n",
      "1875/1875 [==============================] - 1s 766us/step - loss: 0.0442 - accuracy: 0.8310 - val_loss: 0.0517 - val_accuracy: 0.8330\n",
      "Epoch 25/50\n",
      "1875/1875 [==============================] - 1s 729us/step - loss: 0.0440 - accuracy: 0.8339 - val_loss: 0.0513 - val_accuracy: 0.8318\n",
      "Epoch 26/50\n",
      "1875/1875 [==============================] - 1s 786us/step - loss: 0.0442 - accuracy: 0.8322 - val_loss: 0.0508 - val_accuracy: 0.8327\n",
      "Epoch 27/50\n",
      "1875/1875 [==============================] - 1s 730us/step - loss: 0.0441 - accuracy: 0.8331 - val_loss: 0.0508 - val_accuracy: 0.8365\n",
      "Epoch 28/50\n",
      "1875/1875 [==============================] - 1s 766us/step - loss: 0.0440 - accuracy: 0.8332 - val_loss: 0.0510 - val_accuracy: 0.8374\n",
      "Epoch 29/50\n",
      "1875/1875 [==============================] - 1s 758us/step - loss: 0.0441 - accuracy: 0.8311 - val_loss: 0.0510 - val_accuracy: 0.8399\n",
      "Epoch 30/50\n",
      "1875/1875 [==============================] - 1s 730us/step - loss: 0.0440 - accuracy: 0.8336 - val_loss: 0.0512 - val_accuracy: 0.8387\n",
      "Epoch 31/50\n",
      "1875/1875 [==============================] - 1s 765us/step - loss: 0.0441 - accuracy: 0.8326 - val_loss: 0.0511 - val_accuracy: 0.8376\n",
      "Epoch 32/50\n",
      "1875/1875 [==============================] - 1s 722us/step - loss: 0.0438 - accuracy: 0.8331 - val_loss: 0.0501 - val_accuracy: 0.8430\n",
      "Epoch 33/50\n",
      "1875/1875 [==============================] - 1s 775us/step - loss: 0.0440 - accuracy: 0.8345 - val_loss: 0.0510 - val_accuracy: 0.8392\n",
      "Epoch 34/50\n",
      "1875/1875 [==============================] - 1s 765us/step - loss: 0.0439 - accuracy: 0.8338 - val_loss: 0.0501 - val_accuracy: 0.8406\n",
      "Epoch 35/50\n",
      "1875/1875 [==============================] - 1s 769us/step - loss: 0.0439 - accuracy: 0.8337 - val_loss: 0.0503 - val_accuracy: 0.8392\n",
      "Epoch 36/50\n",
      "1875/1875 [==============================] - 1s 780us/step - loss: 0.0439 - accuracy: 0.8329 - val_loss: 0.0502 - val_accuracy: 0.8414\n",
      "Epoch 37/50\n",
      "1875/1875 [==============================] - 1s 766us/step - loss: 0.0438 - accuracy: 0.8341 - val_loss: 0.0489 - val_accuracy: 0.8415\n",
      "Epoch 38/50\n",
      "1875/1875 [==============================] - 1s 784us/step - loss: 0.0437 - accuracy: 0.8342 - val_loss: 0.0493 - val_accuracy: 0.8382\n",
      "Epoch 39/50\n",
      "1875/1875 [==============================] - 1s 742us/step - loss: 0.0439 - accuracy: 0.8321 - val_loss: 0.0498 - val_accuracy: 0.8379\n",
      "Epoch 40/50\n",
      "1875/1875 [==============================] - 1s 771us/step - loss: 0.0437 - accuracy: 0.8335 - val_loss: 0.0491 - val_accuracy: 0.8357\n",
      "Epoch 41/50\n",
      "1875/1875 [==============================] - 2s 800us/step - loss: 0.0441 - accuracy: 0.8297 - val_loss: 0.0498 - val_accuracy: 0.8347\n",
      "Epoch 42/50\n",
      "1875/1875 [==============================] - 1s 785us/step - loss: 0.0438 - accuracy: 0.8321 - val_loss: 0.0499 - val_accuracy: 0.8375\n",
      "Epoch 43/50\n",
      "1875/1875 [==============================] - 1s 779us/step - loss: 0.0437 - accuracy: 0.8362 - val_loss: 0.0497 - val_accuracy: 0.8382\n",
      "Epoch 44/50\n",
      "1875/1875 [==============================] - 2s 843us/step - loss: 0.0439 - accuracy: 0.8319 - val_loss: 0.0494 - val_accuracy: 0.8380\n",
      "Epoch 45/50\n",
      "1875/1875 [==============================] - 1s 791us/step - loss: 0.0435 - accuracy: 0.8352 - val_loss: 0.0490 - val_accuracy: 0.8418\n",
      "Epoch 46/50\n",
      "1875/1875 [==============================] - 1s 741us/step - loss: 0.0437 - accuracy: 0.8355 - val_loss: 0.0492 - val_accuracy: 0.8353\n",
      "Epoch 47/50\n",
      "1875/1875 [==============================] - 1s 732us/step - loss: 0.0435 - accuracy: 0.8348 - val_loss: 0.0498 - val_accuracy: 0.8375\n",
      "Epoch 48/50\n",
      "1875/1875 [==============================] - 1s 759us/step - loss: 0.0437 - accuracy: 0.8325 - val_loss: 0.0487 - val_accuracy: 0.8407\n",
      "Epoch 49/50\n",
      "1875/1875 [==============================] - 1s 724us/step - loss: 0.0439 - accuracy: 0.8312 - val_loss: 0.0491 - val_accuracy: 0.8365\n",
      "Epoch 50/50\n",
      "1875/1875 [==============================] - 1s 778us/step - loss: 0.0436 - accuracy: 0.8337 - val_loss: 0.0482 - val_accuracy: 0.8446\n"
     ]
    },
    {
     "data": {
      "text/plain": [
       "<tensorflow.python.keras.callbacks.History at 0x264b0193ee0>"
      ]
     },
     "execution_count": 7,
     "metadata": {},
     "output_type": "execute_result"
    }
   ],
   "source": [
    "#Execute the graph\n",
    "model.fit(trainX,trainY,validation_data=(testX,testY),epochs=50,batch_size=32)"
   ]
  },
  {
   "cell_type": "code",
   "execution_count": 8,
   "metadata": {},
   "outputs": [
    {
     "name": "stdout",
     "output_type": "stream",
     "text": [
      "Model: \"sequential\"\n",
      "_________________________________________________________________\n",
      "Layer (type)                 Output Shape              Param #   \n",
      "=================================================================\n",
      "reshape (Reshape)            (None, 784)               0         \n",
      "_________________________________________________________________\n",
      "batch_normalization (BatchNo (None, 784)               3136      \n",
      "_________________________________________________________________\n",
      "dense (Dense)                (None, 10)                7850      \n",
      "=================================================================\n",
      "Total params: 10,986\n",
      "Trainable params: 9,418\n",
      "Non-trainable params: 1,568\n",
      "_________________________________________________________________\n"
     ]
    }
   ],
   "source": [
    "model.summary()"
   ]
  },
  {
   "cell_type": "code",
   "execution_count": null,
   "metadata": {},
   "outputs": [],
   "source": []
  },
  {
   "cell_type": "code",
   "execution_count": null,
   "metadata": {},
   "outputs": [],
   "source": []
  }
 ],
 "metadata": {
  "kernelspec": {
   "display_name": "Python 3",
   "language": "python",
   "name": "python3"
  },
  "language_info": {
   "codemirror_mode": {
    "name": "ipython",
    "version": 3
   },
   "file_extension": ".py",
   "mimetype": "text/x-python",
   "name": "python",
   "nbconvert_exporter": "python",
   "pygments_lexer": "ipython3",
   "version": "3.8.5"
  }
 },
 "nbformat": 4,
 "nbformat_minor": 4
}
