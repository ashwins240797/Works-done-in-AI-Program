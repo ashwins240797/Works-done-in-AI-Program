{
 "cells": [
  {
   "cell_type": "code",
   "execution_count": 4,
   "metadata": {},
   "outputs": [],
   "source": [
    "import numpy as np\n",
    "from scipy import linalg\n",
    "\n",
    "#The equations formed are x+y=30 ; 4x+9y=150\n",
    "QuesArr = np.array([[1,1],[4,9]])  \n",
    "QuesArrValue = np.array([30,150])\n",
    "\n",
    "TruFal_MCQ = linalg.solve(QuesArr,QuesArrValue)"
   ]
  },
  {
   "cell_type": "code",
   "execution_count": 8,
   "metadata": {},
   "outputs": [
    {
     "name": "stdout",
     "output_type": "stream",
     "text": [
      "Number of True/False Questions: 24 \n",
      "Number of  Multiple Choice Questions : 6\n"
     ]
    }
   ],
   "source": [
    "#Number of true/false questions\n",
    "print(\"Number of True/False Questions: %d \"%TruFal_MCQ[0])\n",
    "#Number of Multiple Choice Questions\n",
    "print(\"Number of  Multiple Choice Questions : %d\" %TruFal_MCQ[1])"
   ]
  },
  {
   "cell_type": "code",
   "execution_count": null,
   "metadata": {},
   "outputs": [],
   "source": []
  }
 ],
 "metadata": {
  "kernelspec": {
   "display_name": "Python 3",
   "language": "python",
   "name": "python3"
  },
  "language_info": {
   "codemirror_mode": {
    "name": "ipython",
    "version": 3
   },
   "file_extension": ".py",
   "mimetype": "text/x-python",
   "name": "python",
   "nbconvert_exporter": "python",
   "pygments_lexer": "ipython3",
   "version": "3.8.3"
  }
 },
 "nbformat": 4,
 "nbformat_minor": 4
}
