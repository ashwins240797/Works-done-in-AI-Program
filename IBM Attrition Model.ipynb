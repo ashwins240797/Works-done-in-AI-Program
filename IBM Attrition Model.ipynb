{
 "cells": [
  {
   "cell_type": "code",
   "execution_count": 130,
   "metadata": {},
   "outputs": [
    {
     "data": {
      "text/plain": [
       "19110"
      ]
     },
     "execution_count": 130,
     "metadata": {},
     "output_type": "execute_result"
    }
   ],
   "source": [
    "# import required libraries\n",
    "import pandas as pd\n",
    "import numpy as np\n",
    "import matplotlib.pyplot as plt\n",
    "import seaborn as sns\n",
    "from matplotlib import style\n",
    "%matplotlib inline\n",
    "\n",
    "ibm_dataset = pd.read_csv('D:\\\\M_AI\\\\Data Science with Python\\\\Projects\\\\IBM Attrition Data.csv')\n",
    "ibm_dataset.size"
   ]
  },
  {
   "cell_type": "code",
   "execution_count": 131,
   "metadata": {},
   "outputs": [
    {
     "data": {
      "text/plain": [
       "(1470, 13)"
      ]
     },
     "execution_count": 131,
     "metadata": {},
     "output_type": "execute_result"
    }
   ],
   "source": [
    "# view the shape\n",
    "ibm_dataset.shape"
   ]
  },
  {
   "cell_type": "code",
   "execution_count": 132,
   "metadata": {},
   "outputs": [
    {
     "data": {
      "text/html": [
       "<div>\n",
       "<style scoped>\n",
       "    .dataframe tbody tr th:only-of-type {\n",
       "        vertical-align: middle;\n",
       "    }\n",
       "\n",
       "    .dataframe tbody tr th {\n",
       "        vertical-align: top;\n",
       "    }\n",
       "\n",
       "    .dataframe thead th {\n",
       "        text-align: right;\n",
       "    }\n",
       "</style>\n",
       "<table border=\"1\" class=\"dataframe\">\n",
       "  <thead>\n",
       "    <tr style=\"text-align: right;\">\n",
       "      <th></th>\n",
       "      <th>Age</th>\n",
       "      <th>Attrition</th>\n",
       "      <th>Department</th>\n",
       "      <th>DistanceFromHome</th>\n",
       "      <th>Education</th>\n",
       "      <th>EducationField</th>\n",
       "      <th>EnvironmentSatisfaction</th>\n",
       "      <th>JobSatisfaction</th>\n",
       "      <th>MaritalStatus</th>\n",
       "      <th>MonthlyIncome</th>\n",
       "      <th>NumCompaniesWorked</th>\n",
       "      <th>WorkLifeBalance</th>\n",
       "      <th>YearsAtCompany</th>\n",
       "    </tr>\n",
       "  </thead>\n",
       "  <tbody>\n",
       "    <tr>\n",
       "      <th>0</th>\n",
       "      <td>41</td>\n",
       "      <td>Yes</td>\n",
       "      <td>Sales</td>\n",
       "      <td>1</td>\n",
       "      <td>2</td>\n",
       "      <td>Life Sciences</td>\n",
       "      <td>2</td>\n",
       "      <td>4</td>\n",
       "      <td>Single</td>\n",
       "      <td>5993</td>\n",
       "      <td>8</td>\n",
       "      <td>1</td>\n",
       "      <td>6</td>\n",
       "    </tr>\n",
       "    <tr>\n",
       "      <th>1</th>\n",
       "      <td>49</td>\n",
       "      <td>No</td>\n",
       "      <td>Research &amp; Development</td>\n",
       "      <td>8</td>\n",
       "      <td>1</td>\n",
       "      <td>Life Sciences</td>\n",
       "      <td>3</td>\n",
       "      <td>2</td>\n",
       "      <td>Married</td>\n",
       "      <td>5130</td>\n",
       "      <td>1</td>\n",
       "      <td>3</td>\n",
       "      <td>10</td>\n",
       "    </tr>\n",
       "    <tr>\n",
       "      <th>2</th>\n",
       "      <td>37</td>\n",
       "      <td>Yes</td>\n",
       "      <td>Research &amp; Development</td>\n",
       "      <td>2</td>\n",
       "      <td>2</td>\n",
       "      <td>Other</td>\n",
       "      <td>4</td>\n",
       "      <td>3</td>\n",
       "      <td>Single</td>\n",
       "      <td>2090</td>\n",
       "      <td>6</td>\n",
       "      <td>3</td>\n",
       "      <td>0</td>\n",
       "    </tr>\n",
       "    <tr>\n",
       "      <th>3</th>\n",
       "      <td>33</td>\n",
       "      <td>No</td>\n",
       "      <td>Research &amp; Development</td>\n",
       "      <td>3</td>\n",
       "      <td>4</td>\n",
       "      <td>Life Sciences</td>\n",
       "      <td>4</td>\n",
       "      <td>3</td>\n",
       "      <td>Married</td>\n",
       "      <td>2909</td>\n",
       "      <td>1</td>\n",
       "      <td>3</td>\n",
       "      <td>8</td>\n",
       "    </tr>\n",
       "    <tr>\n",
       "      <th>4</th>\n",
       "      <td>27</td>\n",
       "      <td>No</td>\n",
       "      <td>Research &amp; Development</td>\n",
       "      <td>2</td>\n",
       "      <td>1</td>\n",
       "      <td>Medical</td>\n",
       "      <td>1</td>\n",
       "      <td>2</td>\n",
       "      <td>Married</td>\n",
       "      <td>3468</td>\n",
       "      <td>9</td>\n",
       "      <td>3</td>\n",
       "      <td>2</td>\n",
       "    </tr>\n",
       "  </tbody>\n",
       "</table>\n",
       "</div>"
      ],
      "text/plain": [
       "   Age Attrition              Department  DistanceFromHome  Education  \\\n",
       "0   41       Yes                   Sales                 1          2   \n",
       "1   49        No  Research & Development                 8          1   \n",
       "2   37       Yes  Research & Development                 2          2   \n",
       "3   33        No  Research & Development                 3          4   \n",
       "4   27        No  Research & Development                 2          1   \n",
       "\n",
       "  EducationField  EnvironmentSatisfaction  JobSatisfaction MaritalStatus  \\\n",
       "0  Life Sciences                        2                4        Single   \n",
       "1  Life Sciences                        3                2       Married   \n",
       "2          Other                        4                3        Single   \n",
       "3  Life Sciences                        4                3       Married   \n",
       "4        Medical                        1                2       Married   \n",
       "\n",
       "   MonthlyIncome  NumCompaniesWorked  WorkLifeBalance  YearsAtCompany  \n",
       "0           5993                   8                1               6  \n",
       "1           5130                   1                3              10  \n",
       "2           2090                   6                3               0  \n",
       "3           2909                   1                3               8  \n",
       "4           3468                   9                3               2  "
      ]
     },
     "execution_count": 132,
     "metadata": {},
     "output_type": "execute_result"
    }
   ],
   "source": [
    "ibm_dataset.head()"
   ]
  },
  {
   "cell_type": "code",
   "execution_count": 133,
   "metadata": {},
   "outputs": [
    {
     "data": {
      "image/png": "[encoded data removed]",
      "text/plain": [
       "<Figure size 2160x1080 with 1 Axes>"
      ]
     },
     "metadata": {},
     "output_type": "display_data"
    }
   ],
   "source": [
    "# finding the age distribution\n",
    "style.use('ggplot')\n",
    "plt.figure(figsize =(30,15))\n",
    "plt.subplot(1,2,2)\n",
    "plt.hist(ibm_dataset['Age'],bins=70)\n",
    "plt.ylabel('Number of employees')\n",
    "plt.xlabel('Age (in years)')\n",
    "plt.title('Age Distribution')\n",
    "\n",
    "plt.show()\n"
   ]
  },
  {
   "cell_type": "code",
   "execution_count": 134,
   "metadata": {},
   "outputs": [
    {
     "data": {
      "image/png": "[encoded data removed]",
      "text/plain": [
       "<Figure size 720x720 with 1 Axes>"
      ]
     },
     "metadata": {},
     "output_type": "display_data"
    }
   ],
   "source": [
    "# exploring attrition by age\n",
    "style.use('ggplot')\n",
    "plt.figure(figsize=(10,10))\n",
    "plt.scatter(ibm_dataset['Attrition'],ibm_dataset['Age'],color='b')\n",
    "plt.xlabel('Attrition')\n",
    "plt.ylabel('Age')\n",
    "plt.title('Attrition by age')\n",
    "plt.show()"
   ]
  },
  {
   "cell_type": "code",
   "execution_count": 135,
   "metadata": {},
   "outputs": [
    {
     "data": {
      "image/png": "[encoded data removed]",
      "text/plain": [
       "<Figure size 576x432 with 1 Axes>"
      ]
     },
     "metadata": {},
     "output_type": "display_data"
    }
   ],
   "source": [
    "# explore data for Left employees breakdown\n",
    "plt.figure(figsize=(8,6))\n",
    "ibm_dataset.Attrition.value_counts().plot(kind='barh',color='blue',alpha=.65)\n",
    "plt.title(\"Attrition breakdown \")\n",
    "plt.show()"
   ]
  },
  {
   "cell_type": "code",
   "execution_count": 136,
   "metadata": {},
   "outputs": [
    {
     "data": {
      "image/png": "[encoded data removed]",
      "text/plain": [
       "<Figure size 720x576 with 1 Axes>"
      ]
     },
     "metadata": {},
     "output_type": "display_data"
    }
   ],
   "source": [
    "# explore data for Education Field distribution\n",
    "plt.figure(figsize=(10,8))\n",
    "ibm_dataset.EducationField.value_counts().plot(kind='barh',color='m',alpha=.65)\n",
    "plt.title(\"Education Field Distribution\")\n",
    "plt.xlabel('Number of Employees')\n",
    "plt.show()"
   ]
  },
  {
   "cell_type": "code",
   "execution_count": 137,
   "metadata": {},
   "outputs": [
    {
     "data": {
      "image/png": "[encoded data removed]",
      "text/plain": [
       "<Figure size 504x504 with 1 Axes>"
      ]
     },
     "metadata": {},
     "output_type": "display_data"
    }
   ],
   "source": [
    "# bar chart for married and un married\n",
    "# explore data for Education Field distribution\n",
    "plt.figure(figsize=(7,7))\n",
    "ibm_dataset.MaritalStatus.value_counts().plot(kind='bar',color='g',alpha=.65)\n",
    "plt.title(\"Marital Status of employees\")\n",
    "plt.ylabel('Number of Employees')\n",
    "\n",
    "plt.show()"
   ]
  },
  {
   "cell_type": "code",
   "execution_count": 138,
   "metadata": {},
   "outputs": [
    {
     "data": {
      "text/plain": [
       "No     1233\n",
       "Yes     237\n",
       "Name: Attrition, dtype: int64"
      ]
     },
     "execution_count": 138,
     "metadata": {},
     "output_type": "execute_result"
    }
   ],
   "source": [
    "ibm_dataset.Attrition.value_counts()"
   ]
  },
  {
   "cell_type": "code",
   "execution_count": 139,
   "metadata": {},
   "outputs": [
    {
     "data": {
      "text/html": [
       "<div>\n",
       "<style scoped>\n",
       "    .dataframe tbody tr th:only-of-type {\n",
       "        vertical-align: middle;\n",
       "    }\n",
       "\n",
       "    .dataframe tbody tr th {\n",
       "        vertical-align: top;\n",
       "    }\n",
       "\n",
       "    .dataframe thead th {\n",
       "        text-align: right;\n",
       "    }\n",
       "</style>\n",
       "<table border=\"1\" class=\"dataframe\">\n",
       "  <thead>\n",
       "    <tr style=\"text-align: right;\">\n",
       "      <th></th>\n",
       "      <th>Age</th>\n",
       "      <th>Attrition</th>\n",
       "      <th>Department</th>\n",
       "      <th>DistanceFromHome</th>\n",
       "      <th>Education</th>\n",
       "      <th>EducationField</th>\n",
       "      <th>EnvironmentSatisfaction</th>\n",
       "      <th>JobSatisfaction</th>\n",
       "      <th>MaritalStatus</th>\n",
       "      <th>MonthlyIncome</th>\n",
       "      <th>NumCompaniesWorked</th>\n",
       "      <th>WorkLifeBalance</th>\n",
       "      <th>YearsAtCompany</th>\n",
       "    </tr>\n",
       "  </thead>\n",
       "  <tbody>\n",
       "    <tr>\n",
       "      <th>0</th>\n",
       "      <td>41</td>\n",
       "      <td>1</td>\n",
       "      <td>Sales</td>\n",
       "      <td>1</td>\n",
       "      <td>2</td>\n",
       "      <td>Life Sciences</td>\n",
       "      <td>2</td>\n",
       "      <td>4</td>\n",
       "      <td>Single</td>\n",
       "      <td>5993</td>\n",
       "      <td>8</td>\n",
       "      <td>1</td>\n",
       "      <td>6</td>\n",
       "    </tr>\n",
       "    <tr>\n",
       "      <th>1</th>\n",
       "      <td>49</td>\n",
       "      <td>0</td>\n",
       "      <td>Research &amp; Development</td>\n",
       "      <td>8</td>\n",
       "      <td>1</td>\n",
       "      <td>Life Sciences</td>\n",
       "      <td>3</td>\n",
       "      <td>2</td>\n",
       "      <td>Married</td>\n",
       "      <td>5130</td>\n",
       "      <td>1</td>\n",
       "      <td>3</td>\n",
       "      <td>10</td>\n",
       "    </tr>\n",
       "    <tr>\n",
       "      <th>2</th>\n",
       "      <td>37</td>\n",
       "      <td>1</td>\n",
       "      <td>Research &amp; Development</td>\n",
       "      <td>2</td>\n",
       "      <td>2</td>\n",
       "      <td>Other</td>\n",
       "      <td>4</td>\n",
       "      <td>3</td>\n",
       "      <td>Single</td>\n",
       "      <td>2090</td>\n",
       "      <td>6</td>\n",
       "      <td>3</td>\n",
       "      <td>0</td>\n",
       "    </tr>\n",
       "    <tr>\n",
       "      <th>3</th>\n",
       "      <td>33</td>\n",
       "      <td>0</td>\n",
       "      <td>Research &amp; Development</td>\n",
       "      <td>3</td>\n",
       "      <td>4</td>\n",
       "      <td>Life Sciences</td>\n",
       "      <td>4</td>\n",
       "      <td>3</td>\n",
       "      <td>Married</td>\n",
       "      <td>2909</td>\n",
       "      <td>1</td>\n",
       "      <td>3</td>\n",
       "      <td>8</td>\n",
       "    </tr>\n",
       "    <tr>\n",
       "      <th>4</th>\n",
       "      <td>27</td>\n",
       "      <td>0</td>\n",
       "      <td>Research &amp; Development</td>\n",
       "      <td>2</td>\n",
       "      <td>1</td>\n",
       "      <td>Medical</td>\n",
       "      <td>1</td>\n",
       "      <td>2</td>\n",
       "      <td>Married</td>\n",
       "      <td>3468</td>\n",
       "      <td>9</td>\n",
       "      <td>3</td>\n",
       "      <td>2</td>\n",
       "    </tr>\n",
       "  </tbody>\n",
       "</table>\n",
       "</div>"
      ],
      "text/plain": [
       "   Age  Attrition              Department  DistanceFromHome  Education  \\\n",
       "0   41          1                   Sales                 1          2   \n",
       "1   49          0  Research & Development                 8          1   \n",
       "2   37          1  Research & Development                 2          2   \n",
       "3   33          0  Research & Development                 3          4   \n",
       "4   27          0  Research & Development                 2          1   \n",
       "\n",
       "  EducationField  EnvironmentSatisfaction  JobSatisfaction MaritalStatus  \\\n",
       "0  Life Sciences                        2                4        Single   \n",
       "1  Life Sciences                        3                2       Married   \n",
       "2          Other                        4                3        Single   \n",
       "3  Life Sciences                        4                3       Married   \n",
       "4        Medical                        1                2       Married   \n",
       "\n",
       "   MonthlyIncome  NumCompaniesWorked  WorkLifeBalance  YearsAtCompany  \n",
       "0           5993                   8                1               6  \n",
       "1           5130                   1                3              10  \n",
       "2           2090                   6                3               0  \n",
       "3           2909                   1                3               8  \n",
       "4           3468                   9                3               2  "
      ]
     },
     "execution_count": 139,
     "metadata": {},
     "output_type": "execute_result"
    }
   ],
   "source": [
    "ibm_dataset['Attrition'].replace('Yes',1, inplace=True)\n",
    "ibm_dataset['Attrition'].replace('No',0, inplace=True)\n",
    "ibm_dataset.head()"
   ]
  },
  {
   "cell_type": "code",
   "execution_count": 140,
   "metadata": {},
   "outputs": [
    {
     "data": {
      "text/plain": [
       "Married     673\n",
       "Single      470\n",
       "Divorced    327\n",
       "Name: MaritalStatus, dtype: int64"
      ]
     },
     "execution_count": 140,
     "metadata": {},
     "output_type": "execute_result"
    }
   ],
   "source": [
    "ibm_dataset.MaritalStatus.value_counts()"
   ]
  },
  {
   "cell_type": "code",
   "execution_count": 141,
   "metadata": {},
   "outputs": [
    {
     "data": {
      "text/plain": [
       "2    673\n",
       "1    470\n",
       "3    327\n",
       "Name: MaritalStatus, dtype: int64"
      ]
     },
     "execution_count": 141,
     "metadata": {},
     "output_type": "execute_result"
    }
   ],
   "source": [
    "ibm_dataset['MaritalStatus'].replace('Single',1, inplace=True)\n",
    "ibm_dataset['MaritalStatus'].replace('Married',2, inplace=True)\n",
    "ibm_dataset['MaritalStatus'].replace('Divorced',3, inplace=True)\n",
    "ibm_dataset.MaritalStatus.value_counts()"
   ]
  },
  {
   "cell_type": "code",
   "execution_count": 142,
   "metadata": {},
   "outputs": [
    {
     "data": {
      "text/plain": [
       "Life Sciences       606\n",
       "Medical             464\n",
       "Marketing           159\n",
       "Technical Degree    132\n",
       "Other                82\n",
       "Human Resources      27\n",
       "Name: EducationField, dtype: int64"
      ]
     },
     "execution_count": 142,
     "metadata": {},
     "output_type": "execute_result"
    }
   ],
   "source": [
    "ibm_dataset.EducationField.value_counts()"
   ]
  },
  {
   "cell_type": "code",
   "execution_count": 143,
   "metadata": {},
   "outputs": [
    {
     "data": {
      "text/plain": [
       "1    606\n",
       "2    464\n",
       "3    159\n",
       "4    132\n",
       "6     82\n",
       "5     27\n",
       "Name: EducationField, dtype: int64"
      ]
     },
     "execution_count": 143,
     "metadata": {},
     "output_type": "execute_result"
    }
   ],
   "source": [
    "ibm_dataset['EducationField'].replace('Life Sciences',1, inplace=True)\n",
    "ibm_dataset['EducationField'].replace('Medical',2, inplace=True)\n",
    "ibm_dataset['EducationField'].replace('Marketing',3, inplace=True)\n",
    "ibm_dataset['EducationField'].replace('Technical Degree',4, inplace=True)\n",
    "ibm_dataset['EducationField'].replace('Human Resources',5, inplace=True)\n",
    "ibm_dataset['EducationField'].replace('Other',6, inplace=True)\n",
    "ibm_dataset.EducationField.value_counts()"
   ]
  },
  {
   "cell_type": "code",
   "execution_count": 144,
   "metadata": {},
   "outputs": [
    {
     "data": {
      "text/plain": [
       "Research & Development    961\n",
       "Sales                     446\n",
       "Human Resources            63\n",
       "Name: Department, dtype: int64"
      ]
     },
     "execution_count": 144,
     "metadata": {},
     "output_type": "execute_result"
    }
   ],
   "source": [
    "ibm_dataset['Department'].value_counts()"
   ]
  },
  {
   "cell_type": "code",
   "execution_count": 145,
   "metadata": {},
   "outputs": [
    {
     "data": {
      "text/plain": [
       "1    961\n",
       "2    446\n",
       "3     63\n",
       "Name: Department, dtype: int64"
      ]
     },
     "execution_count": 145,
     "metadata": {},
     "output_type": "execute_result"
    }
   ],
   "source": [
    "ibm_dataset['Department'].replace('Research & Development',1, inplace=True)\n",
    "ibm_dataset['Department'].replace('Sales',2, inplace=True)\n",
    "ibm_dataset['Department'].replace('Human Resources',3, inplace=True)\n",
    "ibm_dataset['Department'].value_counts()"
   ]
  },
  {
   "cell_type": "code",
   "execution_count": 146,
   "metadata": {},
   "outputs": [
    {
     "data": {
      "text/plain": [
       "<bound method NDFrame.describe of       Age  Attrition  Department  DistanceFromHome  Education  EducationField  \\\n",
       "0      41          1           2                 1          2               1   \n",
       "1      49          0           1                 8          1               1   \n",
       "2      37          1           1                 2          2               6   \n",
       "3      33          0           1                 3          4               1   \n",
       "4      27          0           1                 2          1               2   \n",
       "...   ...        ...         ...               ...        ...             ...   \n",
       "1465   36          0           1                23          2               2   \n",
       "1466   39          0           1                 6          1               2   \n",
       "1467   27          0           1                 4          3               1   \n",
       "1468   49          0           2                 2          3               2   \n",
       "1469   34          0           1                 8          3               2   \n",
       "\n",
       "      EnvironmentSatisfaction  JobSatisfaction  MaritalStatus  MonthlyIncome  \\\n",
       "0                           2                4              1           5993   \n",
       "1                           3                2              2           5130   \n",
       "2                           4                3              1           2090   \n",
       "3                           4                3              2           2909   \n",
       "4                           1                2              2           3468   \n",
       "...                       ...              ...            ...            ...   \n",
       "1465                        3                4              2           2571   \n",
       "1466                        4                1              2           9991   \n",
       "1467                        2                2              2           6142   \n",
       "1468                        4                2              2           5390   \n",
       "1469                        2                3              2           4404   \n",
       "\n",
       "      NumCompaniesWorked  WorkLifeBalance  YearsAtCompany  \n",
       "0                      8                1               6  \n",
       "1                      1                3              10  \n",
       "2                      6                3               0  \n",
       "3                      1                3               8  \n",
       "4                      9                3               2  \n",
       "...                  ...              ...             ...  \n",
       "1465                   4                3               5  \n",
       "1466                   4                3               7  \n",
       "1467                   1                3               6  \n",
       "1468                   2                2               9  \n",
       "1469                   2                4               4  \n",
       "\n",
       "[1470 rows x 13 columns]>"
      ]
     },
     "execution_count": 146,
     "metadata": {},
     "output_type": "execute_result"
    }
   ],
   "source": [
    "ibm_dataset.describe"
   ]
  },
  {
   "cell_type": "code",
   "execution_count": 147,
   "metadata": {},
   "outputs": [],
   "source": [
    "\n",
    "X_feature = ibm_dataset\n",
    "Y_target = ibm_dataset['Attrition']\n"
   ]
  },
  {
   "cell_type": "code",
   "execution_count": 148,
   "metadata": {},
   "outputs": [
    {
     "name": "stderr",
     "output_type": "stream",
     "text": [
      "C:\\Users\\User\\anaconda3\\lib\\site-packages\\sklearn\\linear_model\\_logistic.py:762: ConvergenceWarning: lbfgs failed to converge (status=1):\n",
      "STOP: TOTAL NO. of ITERATIONS REACHED LIMIT.\n",
      "\n",
      "Increase the number of iterations (max_iter) or scale the data as shown in:\n",
      "    https://scikit-learn.org/stable/modules/preprocessing.html\n",
      "Please also refer to the documentation for alternative solver options:\n",
      "    https://scikit-learn.org/stable/modules/linear_model.html#logistic-regression\n",
      "  n_iter_i = _check_optimize_result(\n"
     ]
    },
    {
     "data": {
      "text/plain": [
       "LogisticRegression()"
      ]
     },
     "execution_count": 148,
     "metadata": {},
     "output_type": "execute_result"
    }
   ],
   "source": [
    "from sklearn.linear_model import LogisticRegression\n",
    "logReg = LogisticRegression()\n",
    "logReg.fit(X_feature,Y_target)"
   ]
  },
  {
   "cell_type": "code",
   "execution_count": 149,
   "metadata": {},
   "outputs": [
    {
     "name": "stdout",
     "output_type": "stream",
     "text": [
      "Estimated intercept is  0.08 :\n"
     ]
    }
   ],
   "source": [
    "print('Estimated intercept is  %.2f :'%logReg.intercept_)"
   ]
  },
  {
   "cell_type": "code",
   "execution_count": 150,
   "metadata": {},
   "outputs": [
    {
     "data": {
      "text/plain": [
       "array([[ 8.15057144e-02,  5.21716726e+00,  7.70511884e-01,\n",
       "         3.01066745e-02,  1.16121455e-01,  7.42549132e-01,\n",
       "        -1.06281112e+00, -9.99787875e-01, -1.29050646e+00,\n",
       "        -2.29298324e-04, -1.12424135e-01, -3.39746226e-01,\n",
       "        -1.63362880e-02]])"
      ]
     },
     "execution_count": 150,
     "metadata": {},
     "output_type": "execute_result"
    }
   ],
   "source": [
    "# Coefficients\n",
    "logReg.coef_"
   ]
  },
  {
   "cell_type": "code",
   "execution_count": 151,
   "metadata": {},
   "outputs": [
    {
     "data": {
      "text/plain": [
       "0.9523809523809523"
      ]
     },
     "execution_count": 151,
     "metadata": {},
     "output_type": "execute_result"
    }
   ],
   "source": [
    "# accuracy\n",
    "logReg.score(X_feature,Y_target)"
   ]
  },
  {
   "cell_type": "code",
   "execution_count": 152,
   "metadata": {},
   "outputs": [],
   "source": [
    "# training the model\n",
    "from sklearn.model_selection import train_test_split\n",
    "X_train,X_test,Y_train,Y_test = train_test_split(X_feature,Y_target,test_size=0.3, random_state=0)"
   ]
  },
  {
   "cell_type": "code",
   "execution_count": 153,
   "metadata": {},
   "outputs": [
    {
     "name": "stdout",
     "output_type": "stream",
     "text": [
      "      Age  Attrition  Department  DistanceFromHome  Education  EducationField  \\\n",
      "338    30          0           2                 5          3               3   \n",
      "363    33          1           2                 5          3               3   \n",
      "759    45          0           3                24          4               2   \n",
      "793    28          0           1                15          2               1   \n",
      "581    30          0           1                 1          3               1   \n",
      "...   ...        ...         ...               ...        ...             ...   \n",
      "763    34          0           2                10          4               1   \n",
      "835    35          0           3                 8          4               4   \n",
      "1216   43          0           2                 2          3               2   \n",
      "559    38          0           1                 2          5               2   \n",
      "684    40          0           2                10          4               3   \n",
      "\n",
      "      EnvironmentSatisfaction  JobSatisfaction  MaritalStatus  MonthlyIncome  \\\n",
      "338                         4                3              3           6118   \n",
      "363                         4                3              1           2851   \n",
      "759                         2                2              1           2177   \n",
      "793                         1                3              3           2207   \n",
      "581                         4                3              2           3833   \n",
      "...                       ...              ...            ...            ...   \n",
      "763                         3                3              2           2220   \n",
      "835                         3                3              1           4323   \n",
      "1216                        4                4              2           7847   \n",
      "559                         4                3              2           3057   \n",
      "684                         1                2              3           9705   \n",
      "\n",
      "      NumCompaniesWorked  WorkLifeBalance  YearsAtCompany  \n",
      "338                    1                3              10  \n",
      "363                    1                3               1  \n",
      "759                    1                3               6  \n",
      "793                    1                2               4  \n",
      "581                    3                3               2  \n",
      "...                  ...              ...             ...  \n",
      "763                    1                3               1  \n",
      "835                    1                1               5  \n",
      "1216                   1                3              10  \n",
      "559                    6                1               1  \n",
      "684                    2                2               1  \n",
      "\n",
      "[1029 rows x 13 columns]\n",
      "      Age  Attrition  Department  DistanceFromHome  Education  EducationField  \\\n",
      "442    36          0           2                10          4               2   \n",
      "1091   33          0           1                25          3               1   \n",
      "981    35          1           2                18          4               3   \n",
      "785    40          0           1                20          4               4   \n",
      "1332   29          1           1                24          2               1   \n",
      "...   ...        ...         ...               ...        ...             ...   \n",
      "817    36          0           1                18          4               1   \n",
      "399    31          0           1                 1          2               1   \n",
      "458    40          0           2                28          3               6   \n",
      "406    52          0           1                 3          3               2   \n",
      "590    33          0           1                 7          3               2   \n",
      "\n",
      "      EnvironmentSatisfaction  JobSatisfaction  MaritalStatus  MonthlyIncome  \\\n",
      "442                         2                4              1           9980   \n",
      "1091                        4                2              1           4320   \n",
      "981                         4                3              2           4614   \n",
      "785                         1                4              2          10322   \n",
      "1332                        4                4              1           2439   \n",
      "...                       ...              ...            ...            ...   \n",
      "817                         1                4              1           7779   \n",
      "399                         4                1              2           2218   \n",
      "458                         3                1              3          10932   \n",
      "406                         4                3              2           7969   \n",
      "590                         3                3              2          11691   \n",
      "\n",
      "      NumCompaniesWorked  WorkLifeBalance  YearsAtCompany  \n",
      "442                    1                2              10  \n",
      "1091                   1                3               5  \n",
      "981                    0                2               4  \n",
      "785                    4                3              11  \n",
      "1332                   1                2               1  \n",
      "...                  ...              ...             ...  \n",
      "817                    2                3              11  \n",
      "399                    1                3               4  \n",
      "458                    3                3               1  \n",
      "406                    2                3               5  \n",
      "590                    0                4              13  \n",
      "\n",
      "[441 rows x 13 columns]\n",
      "338     0\n",
      "363     1\n",
      "759     0\n",
      "793     0\n",
      "581     0\n",
      "       ..\n",
      "763     0\n",
      "835     0\n",
      "1216    0\n",
      "559     0\n",
      "684     0\n",
      "Name: Attrition, Length: 1029, dtype: int64\n",
      "442     0\n",
      "1091    0\n",
      "981     1\n",
      "785     0\n",
      "1332    1\n",
      "       ..\n",
      "817     0\n",
      "399     0\n",
      "458     0\n",
      "406     0\n",
      "590     0\n",
      "Name: Attrition, Length: 441, dtype: int64\n"
     ]
    }
   ],
   "source": [
    "print(X_train)\n",
    "print(X_test)\n",
    "print(Y_train)\n",
    "print(Y_test)"
   ]
  },
  {
   "cell_type": "code",
   "execution_count": 154,
   "metadata": {},
   "outputs": [
    {
     "name": "stderr",
     "output_type": "stream",
     "text": [
      "C:\\Users\\User\\anaconda3\\lib\\site-packages\\sklearn\\linear_model\\_logistic.py:762: ConvergenceWarning: lbfgs failed to converge (status=1):\n",
      "STOP: TOTAL NO. of ITERATIONS REACHED LIMIT.\n",
      "\n",
      "Increase the number of iterations (max_iter) or scale the data as shown in:\n",
      "    https://scikit-learn.org/stable/modules/preprocessing.html\n",
      "Please also refer to the documentation for alternative solver options:\n",
      "    https://scikit-learn.org/stable/modules/linear_model.html#logistic-regression\n",
      "  n_iter_i = _check_optimize_result(\n"
     ]
    },
    {
     "data": {
      "text/plain": [
       "LogisticRegression()"
      ]
     },
     "execution_count": 154,
     "metadata": {},
     "output_type": "execute_result"
    }
   ],
   "source": [
    "logReg2 = LogisticRegression()\n",
    "logReg2.fit(X_train,Y_train)"
   ]
  },
  {
   "cell_type": "code",
   "execution_count": 155,
   "metadata": {},
   "outputs": [
    {
     "data": {
      "text/plain": [
       "array([0, 0, 1, 0, 0, 0, 1, 0, 0, 1, 0, 1, 0, 1, 0, 0, 0, 0, 0, 1, 0, 0,\n",
       "       0, 0, 0, 0, 0, 0, 0, 0, 0, 1, 0, 1, 0, 0, 0, 0, 0, 0, 0, 0, 0, 0,\n",
       "       0, 1, 0, 0, 1, 1, 0, 1, 0, 0, 1, 0, 0, 1, 0, 0, 0, 0, 0, 0, 0, 0,\n",
       "       0, 1, 0, 1, 0, 0, 0, 0, 0, 0, 0, 0, 0, 0, 0, 0, 0, 0, 0, 0, 0, 0,\n",
       "       0, 0, 0, 0, 0, 0, 0, 0, 1, 1, 0, 0, 1, 1, 0, 0, 0, 0, 0, 0, 0, 0,\n",
       "       0, 0, 0, 0, 0, 0, 0, 0, 0, 0, 0, 0, 0, 1, 0, 0, 0, 0, 0, 0, 0, 1,\n",
       "       1, 0, 0, 0, 1, 0, 0, 0, 0, 0, 0, 0, 0, 0, 0, 0, 0, 1, 0, 0, 0, 1,\n",
       "       0, 0, 0, 0, 0, 0, 1, 0, 0, 1, 0, 0, 0, 0, 0, 0, 0, 1, 0, 0, 1, 0,\n",
       "       0, 0, 0, 0, 0, 0, 0, 1, 0, 0, 1, 0, 0, 0, 0, 1, 0, 0, 0, 0, 0, 0,\n",
       "       0, 0, 0, 0, 1, 0, 0, 0, 0, 0, 0, 0, 0, 0, 0, 1, 1, 0, 0, 0, 0, 0,\n",
       "       0, 0, 1, 0, 1, 0, 0, 0, 1, 0, 0, 0, 0, 0, 0, 0, 0, 0, 0, 0, 1, 0,\n",
       "       0, 0, 0, 0, 0, 0, 0, 0, 0, 1, 1, 0, 0, 0, 0, 1, 0, 1, 0, 0, 0, 0,\n",
       "       0, 0, 0, 1, 1, 0, 0, 0, 0, 0, 0, 0, 0, 0, 0, 0, 1, 0, 0, 0, 0, 0,\n",
       "       0, 0, 0, 0, 0, 1, 0, 0, 0, 0, 0, 0, 0, 0, 0, 0, 0, 0, 0, 0, 0, 1,\n",
       "       0, 0, 0, 0, 0, 0, 0, 0, 0, 0, 0, 0, 1, 0, 0, 1, 0, 0, 0, 0, 0, 0,\n",
       "       0, 0, 0, 0, 0, 0, 0, 0, 0, 0, 0, 1, 0, 0, 0, 0, 0, 0, 0, 0, 0, 0,\n",
       "       0, 0, 0, 0, 0, 0, 0, 0, 0, 0, 0, 0, 1, 0, 0, 1, 0, 0, 0, 0, 0, 0,\n",
       "       1, 0, 0, 0, 1, 0, 0, 0, 0, 0, 0, 1, 0, 0, 0, 0, 0, 0, 0, 0, 1, 0,\n",
       "       0, 0, 0, 0, 1, 0, 0, 0, 0, 0, 0, 0, 0, 0, 0, 0, 0, 0, 0, 0, 0, 1,\n",
       "       0, 0, 0, 0, 1, 0, 0, 0, 0, 0, 0, 0, 1, 0, 0, 0, 0, 0, 0, 0, 0, 0,\n",
       "       0], dtype=int64)"
      ]
     },
     "execution_count": 155,
     "metadata": {},
     "output_type": "execute_result"
    }
   ],
   "source": [
    "predicted = logReg2.predict(X_test)\n",
    "predicted"
   ]
  },
  {
   "cell_type": "code",
   "execution_count": 156,
   "metadata": {},
   "outputs": [
    {
     "data": {
      "text/plain": [
       "array([[9.79201044e-01, 2.07989564e-02],\n",
       "       [9.96452554e-01, 3.54744641e-03],\n",
       "       [2.38439778e-01, 7.61560222e-01],\n",
       "       [9.44472417e-01, 5.55275829e-02],\n",
       "       [8.07896695e-01, 1.92103305e-01],\n",
       "       [9.98807277e-01, 1.19272277e-03],\n",
       "       [2.26018238e-02, 9.77398176e-01],\n",
       "       [9.54394393e-01, 4.56056073e-02],\n",
       "       [9.99542522e-01, 4.57477700e-04],\n",
       "       [2.17650799e-01, 7.82349201e-01],\n",
       "       [9.99680572e-01, 3.19427754e-04],\n",
       "       [5.39228201e-02, 9.46077180e-01],\n",
       "       [9.99798999e-01, 2.01001040e-04],\n",
       "       [9.67379130e-02, 9.03262087e-01],\n",
       "       [9.88057237e-01, 1.19427626e-02],\n",
       "       [9.99867507e-01, 1.32492930e-04],\n",
       "       [9.92056477e-01, 7.94352276e-03],\n",
       "       [8.55262565e-01, 1.44737435e-01],\n",
       "       [9.92651148e-01, 7.34885229e-03],\n",
       "       [1.69549579e-01, 8.30450421e-01],\n",
       "       [9.85630225e-01, 1.43697746e-02],\n",
       "       [9.96713693e-01, 3.28630721e-03],\n",
       "       [9.93563290e-01, 6.43671044e-03],\n",
       "       [9.99605439e-01, 3.94560735e-04],\n",
       "       [9.84517604e-01, 1.54823955e-02],\n",
       "       [9.42883428e-01, 5.71165716e-02],\n",
       "       [9.74675682e-01, 2.53243177e-02],\n",
       "       [9.99747986e-01, 2.52014415e-04],\n",
       "       [9.34400796e-01, 6.55992036e-02],\n",
       "       [9.18459240e-01, 8.15407600e-02],\n",
       "       [9.90425252e-01, 9.57474778e-03],\n",
       "       [4.72295559e-01, 5.27704441e-01],\n",
       "       [9.70315142e-01, 2.96848585e-02],\n",
       "       [1.40068602e-01, 8.59931398e-01],\n",
       "       [9.77228142e-01, 2.27718575e-02],\n",
       "       [9.97452851e-01, 2.54714900e-03],\n",
       "       [9.91453438e-01, 8.54656199e-03],\n",
       "       [9.60136201e-01, 3.98637986e-02],\n",
       "       [5.29836985e-01, 4.70163015e-01],\n",
       "       [9.99152380e-01, 8.47620137e-04],\n",
       "       [9.00164277e-01, 9.98357227e-02],\n",
       "       [9.99190015e-01, 8.09985036e-04],\n",
       "       [9.98026710e-01, 1.97329046e-03],\n",
       "       [9.97054394e-01, 2.94560554e-03],\n",
       "       [9.97821276e-01, 2.17872385e-03],\n",
       "       [1.59317764e-01, 8.40682236e-01],\n",
       "       [9.62232528e-01, 3.77674719e-02],\n",
       "       [9.99954854e-01, 4.51463646e-05],\n",
       "       [4.32465759e-02, 9.56753424e-01],\n",
       "       [4.61186759e-01, 5.38813241e-01],\n",
       "       [9.92700369e-01, 7.29963123e-03],\n",
       "       [4.66223122e-03, 9.95337769e-01],\n",
       "       [9.75034035e-01, 2.49659646e-02],\n",
       "       [7.96675444e-01, 2.03324556e-01],\n",
       "       [4.00303347e-02, 9.59969665e-01],\n",
       "       [9.59762282e-01, 4.02377185e-02],\n",
       "       [9.99779556e-01, 2.20443630e-04],\n",
       "       [2.98621083e-02, 9.70137892e-01],\n",
       "       [9.96856968e-01, 3.14303246e-03],\n",
       "       [6.69074070e-01, 3.30925930e-01],\n",
       "       [9.82939889e-01, 1.70601110e-02],\n",
       "       [9.82644624e-01, 1.73553759e-02],\n",
       "       [9.84151552e-01, 1.58484475e-02],\n",
       "       [9.98766949e-01, 1.23305127e-03],\n",
       "       [8.66146133e-01, 1.33853867e-01],\n",
       "       [8.84415622e-01, 1.15584378e-01],\n",
       "       [8.31247220e-01, 1.68752780e-01],\n",
       "       [5.21188900e-02, 9.47881110e-01],\n",
       "       [9.88730936e-01, 1.12690639e-02],\n",
       "       [3.41506078e-03, 9.96584939e-01],\n",
       "       [9.46573952e-01, 5.34260478e-02],\n",
       "       [9.95990379e-01, 4.00962142e-03],\n",
       "       [9.99110182e-01, 8.89818161e-04],\n",
       "       [9.97841616e-01, 2.15838431e-03],\n",
       "       [9.83814245e-01, 1.61857552e-02],\n",
       "       [9.99409328e-01, 5.90672060e-04],\n",
       "       [9.70652328e-01, 2.93476722e-02],\n",
       "       [9.99144152e-01, 8.55847699e-04],\n",
       "       [7.31082761e-01, 2.68917239e-01],\n",
       "       [9.32484666e-01, 6.75153341e-02],\n",
       "       [9.97698286e-01, 2.30171389e-03],\n",
       "       [9.31133058e-01, 6.88669425e-02],\n",
       "       [8.39710883e-01, 1.60289117e-01],\n",
       "       [9.99203857e-01, 7.96143139e-04],\n",
       "       [9.99847690e-01, 1.52310236e-04],\n",
       "       [8.15049308e-01, 1.84950692e-01],\n",
       "       [9.95561135e-01, 4.43886463e-03],\n",
       "       [9.43480331e-01, 5.65196692e-02],\n",
       "       [9.99595190e-01, 4.04809578e-04],\n",
       "       [9.97427619e-01, 2.57238140e-03],\n",
       "       [9.12031429e-01, 8.79685709e-02],\n",
       "       [9.93425851e-01, 6.57414928e-03],\n",
       "       [8.02827416e-01, 1.97172584e-01],\n",
       "       [9.15755437e-01, 8.42445627e-02],\n",
       "       [9.99443107e-01, 5.56893087e-04],\n",
       "       [9.63191245e-01, 3.68087547e-02],\n",
       "       [2.36723932e-01, 7.63276068e-01],\n",
       "       [8.63726599e-02, 9.13627340e-01],\n",
       "       [9.93969531e-01, 6.03046918e-03],\n",
       "       [9.99402983e-01, 5.97016719e-04],\n",
       "       [3.63511676e-02, 9.63648832e-01],\n",
       "       [8.19770871e-02, 9.18022913e-01],\n",
       "       [9.98961177e-01, 1.03882290e-03],\n",
       "       [9.97880622e-01, 2.11937763e-03],\n",
       "       [8.52433422e-01, 1.47566578e-01],\n",
       "       [9.98891265e-01, 1.10873539e-03],\n",
       "       [9.90037705e-01, 9.96229483e-03],\n",
       "       [9.91613515e-01, 8.38648483e-03],\n",
       "       [9.88177126e-01, 1.18228736e-02],\n",
       "       [5.15120845e-01, 4.84879155e-01],\n",
       "       [9.14553595e-01, 8.54464050e-02],\n",
       "       [9.98170450e-01, 1.82955007e-03],\n",
       "       [9.98208879e-01, 1.79112122e-03],\n",
       "       [9.85508715e-01, 1.44912851e-02],\n",
       "       [9.87477216e-01, 1.25227841e-02],\n",
       "       [9.97661525e-01, 2.33847529e-03],\n",
       "       [9.99183019e-01, 8.16981396e-04],\n",
       "       [9.99547100e-01, 4.52900300e-04],\n",
       "       [9.98224449e-01, 1.77555101e-03],\n",
       "       [9.99833383e-01, 1.66617135e-04],\n",
       "       [9.85041119e-01, 1.49588812e-02],\n",
       "       [9.98208393e-01, 1.79160681e-03],\n",
       "       [9.93307761e-01, 6.69223908e-03],\n",
       "       [4.99884252e-01, 5.00115748e-01],\n",
       "       [9.93762339e-01, 6.23766098e-03],\n",
       "       [9.93316121e-01, 6.68387877e-03],\n",
       "       [9.99473556e-01, 5.26443661e-04],\n",
       "       [9.91311197e-01, 8.68880288e-03],\n",
       "       [9.91665316e-01, 8.33468392e-03],\n",
       "       [9.99448217e-01, 5.51783491e-04],\n",
       "       [9.98815510e-01, 1.18448963e-03],\n",
       "       [1.17745467e-01, 8.82254533e-01],\n",
       "       [1.61777928e-02, 9.83822207e-01],\n",
       "       [9.70436289e-01, 2.95637106e-02],\n",
       "       [9.98935314e-01, 1.06468582e-03],\n",
       "       [8.64466964e-01, 1.35533036e-01],\n",
       "       [1.37103843e-01, 8.62896157e-01],\n",
       "       [9.34431182e-01, 6.55688185e-02],\n",
       "       [6.55836723e-01, 3.44163277e-01],\n",
       "       [9.60876229e-01, 3.91237706e-02],\n",
       "       [9.43483073e-01, 5.65169265e-02],\n",
       "       [9.99381590e-01, 6.18409663e-04],\n",
       "       [7.38425555e-01, 2.61574445e-01],\n",
       "       [9.99896966e-01, 1.03033598e-04],\n",
       "       [7.89246251e-01, 2.10753749e-01],\n",
       "       [6.70376940e-01, 3.29623060e-01],\n",
       "       [9.99867651e-01, 1.32348748e-04],\n",
       "       [9.99173053e-01, 8.26947231e-04],\n",
       "       [9.64797186e-01, 3.52028141e-02],\n",
       "       [2.21833412e-01, 7.78166588e-01],\n",
       "       [9.97238590e-01, 2.76141001e-03],\n",
       "       [9.79485640e-01, 2.05143595e-02],\n",
       "       [8.55231535e-01, 1.44768465e-01],\n",
       "       [4.49176509e-02, 9.55082349e-01],\n",
       "       [9.26885262e-01, 7.31147380e-02],\n",
       "       [9.97953969e-01, 2.04603080e-03],\n",
       "       [9.99282762e-01, 7.17237967e-04],\n",
       "       [9.75626479e-01, 2.43735212e-02],\n",
       "       [9.78065493e-01, 2.19345073e-02],\n",
       "       [9.98056207e-01, 1.94379263e-03],\n",
       "       [2.54633737e-01, 7.45366263e-01],\n",
       "       [9.98723698e-01, 1.27630243e-03],\n",
       "       [9.96994611e-01, 3.00538900e-03],\n",
       "       [6.19751257e-02, 9.38024874e-01],\n",
       "       [9.99785165e-01, 2.14834734e-04],\n",
       "       [9.93095991e-01, 6.90400859e-03],\n",
       "       [9.91267978e-01, 8.73202177e-03],\n",
       "       [9.97748585e-01, 2.25141452e-03],\n",
       "       [9.99510104e-01, 4.89896318e-04],\n",
       "       [9.99926870e-01, 7.31304625e-05],\n",
       "       [9.92455671e-01, 7.54432875e-03],\n",
       "       [2.78573416e-01, 7.21426584e-01],\n",
       "       [9.95584922e-01, 4.41507754e-03],\n",
       "       [9.96781839e-01, 3.21816079e-03],\n",
       "       [4.00827431e-01, 5.99172569e-01],\n",
       "       [9.98790966e-01, 1.20903405e-03],\n",
       "       [9.99499144e-01, 5.00856005e-04],\n",
       "       [9.98286579e-01, 1.71342112e-03],\n",
       "       [9.97396307e-01, 2.60369327e-03],\n",
       "       [9.93954319e-01, 6.04568069e-03],\n",
       "       [9.99400731e-01, 5.99269305e-04],\n",
       "       [9.99533430e-01, 4.66569837e-04],\n",
       "       [9.97979353e-01, 2.02064693e-03],\n",
       "       [5.43608954e-03, 9.94563910e-01],\n",
       "       [9.99089101e-01, 9.10898973e-04],\n",
       "       [5.50465372e-01, 4.49534628e-01],\n",
       "       [1.06115315e-01, 8.93884685e-01],\n",
       "       [9.35311762e-01, 6.46882377e-02],\n",
       "       [5.89346648e-01, 4.10653352e-01],\n",
       "       [5.82218300e-01, 4.17781700e-01],\n",
       "       [9.18301933e-01, 8.16980670e-02],\n",
       "       [2.82306650e-01, 7.17693350e-01],\n",
       "       [9.97391503e-01, 2.60849670e-03],\n",
       "       [9.95338069e-01, 4.66193149e-03],\n",
       "       [9.99694362e-01, 3.05637910e-04],\n",
       "       [9.92692431e-01, 7.30756932e-03],\n",
       "       [8.86852145e-01, 1.13147855e-01],\n",
       "       [9.79430946e-01, 2.05690544e-02],\n",
       "       [8.75003787e-01, 1.24996213e-01],\n",
       "       [9.95113864e-01, 4.88613575e-03],\n",
       "       [9.76507833e-01, 2.34921670e-02],\n",
       "       [9.79390202e-01, 2.06097982e-02],\n",
       "       [6.45581146e-02, 9.35441885e-01],\n",
       "       [9.85695816e-01, 1.43041838e-02],\n",
       "       [9.83993850e-01, 1.60061499e-02],\n",
       "       [9.93715214e-01, 6.28478559e-03],\n",
       "       [9.95810316e-01, 4.18968422e-03],\n",
       "       [9.99871436e-01, 1.28563548e-04],\n",
       "       [9.41972940e-01, 5.80270596e-02],\n",
       "       [9.17479732e-01, 8.25202684e-02],\n",
       "       [9.78582444e-01, 2.14175558e-02],\n",
       "       [9.86523474e-01, 1.34765256e-02],\n",
       "       [9.61767280e-01, 3.82327203e-02],\n",
       "       [2.13125601e-02, 9.78687440e-01],\n",
       "       [1.90504463e-01, 8.09495537e-01],\n",
       "       [9.97806722e-01, 2.19327764e-03],\n",
       "       [9.85832409e-01, 1.41675906e-02],\n",
       "       [9.99753556e-01, 2.46444090e-04],\n",
       "       [9.79937750e-01, 2.00622500e-02],\n",
       "       [9.89935844e-01, 1.00641556e-02],\n",
       "       [9.80671814e-01, 1.93281859e-02],\n",
       "       [9.07442591e-01, 9.25574094e-02],\n",
       "       [4.81651113e-01, 5.18348887e-01],\n",
       "       [9.99896035e-01, 1.03964851e-04],\n",
       "       [4.51546852e-01, 5.48453148e-01],\n",
       "       [9.96677550e-01, 3.32245044e-03],\n",
       "       [9.90960032e-01, 9.03996822e-03],\n",
       "       [9.77225030e-01, 2.27749703e-02],\n",
       "       [6.50501976e-02, 9.34949802e-01],\n",
       "       [9.32552517e-01, 6.74474832e-02],\n",
       "       [9.99900461e-01, 9.95393609e-05],\n",
       "       [9.99467730e-01, 5.32269983e-04],\n",
       "       [9.96418929e-01, 3.58107120e-03],\n",
       "       [9.99769379e-01, 2.30620592e-04],\n",
       "       [9.95605565e-01, 4.39443497e-03],\n",
       "       [9.98537453e-01, 1.46254671e-03],\n",
       "       [9.85929319e-01, 1.40706808e-02],\n",
       "       [9.97769047e-01, 2.23095258e-03],\n",
       "       [8.89342613e-01, 1.10657387e-01],\n",
       "       [9.99700794e-01, 2.99206495e-04],\n",
       "       [4.91641012e-01, 5.08358988e-01],\n",
       "       [9.71694642e-01, 2.83053580e-02],\n",
       "       [9.98469352e-01, 1.53064833e-03],\n",
       "       [9.94685526e-01, 5.31447371e-03],\n",
       "       [8.85437709e-01, 1.14562291e-01],\n",
       "       [9.99055593e-01, 9.44407080e-04],\n",
       "       [9.91458586e-01, 8.54141450e-03],\n",
       "       [9.87207107e-01, 1.27928926e-02],\n",
       "       [9.99479947e-01, 5.20052777e-04],\n",
       "       [9.96160535e-01, 3.83946478e-03],\n",
       "       [9.88586079e-01, 1.14139208e-02],\n",
       "       [1.78914826e-01, 8.21085174e-01],\n",
       "       [1.46012987e-02, 9.85398701e-01],\n",
       "       [9.94996039e-01, 5.00396076e-03],\n",
       "       [9.99156221e-01, 8.43778591e-04],\n",
       "       [9.52324771e-01, 4.76752291e-02],\n",
       "       [9.99986464e-01, 1.35364449e-05],\n",
       "       [3.56885143e-01, 6.43114857e-01],\n",
       "       [9.16012636e-01, 8.39873643e-02],\n",
       "       [1.94931752e-02, 9.80506825e-01],\n",
       "       [9.26732768e-01, 7.32672324e-02],\n",
       "       [9.90999725e-01, 9.00027476e-03],\n",
       "       [9.33039535e-01, 6.69604648e-02],\n",
       "       [9.96648274e-01, 3.35172605e-03],\n",
       "       [9.55180492e-01, 4.48195082e-02],\n",
       "       [9.90933895e-01, 9.06610546e-03],\n",
       "       [9.99134164e-01, 8.65835872e-04],\n",
       "       [4.16244142e-01, 5.83755858e-01],\n",
       "       [3.31648661e-02, 9.66835134e-01],\n",
       "       [9.82529728e-01, 1.74702725e-02],\n",
       "       [8.82350710e-01, 1.17649290e-01],\n",
       "       [9.99933272e-01, 6.67276005e-05],\n",
       "       [9.87786470e-01, 1.22135304e-02],\n",
       "       [9.98996831e-01, 1.00316881e-03],\n",
       "       [9.38036318e-01, 6.19636824e-02],\n",
       "       [9.93424120e-01, 6.57587973e-03],\n",
       "       [9.51224527e-01, 4.87754728e-02],\n",
       "       [9.96802327e-01, 3.19767339e-03],\n",
       "       [9.95376948e-01, 4.62305249e-03],\n",
       "       [9.99574969e-01, 4.25031282e-04],\n",
       "       [1.05061956e-01, 8.94938044e-01],\n",
       "       [9.99769306e-01, 2.30694139e-04],\n",
       "       [9.34370027e-01, 6.56299730e-02],\n",
       "       [6.66673793e-01, 3.33326207e-01],\n",
       "       [9.98664180e-01, 1.33581987e-03],\n",
       "       [9.99124209e-01, 8.75791290e-04],\n",
       "       [9.99309245e-01, 6.90754728e-04],\n",
       "       [7.53980046e-01, 2.46019954e-01],\n",
       "       [8.36893395e-01, 1.63106605e-01],\n",
       "       [9.88614045e-01, 1.13859550e-02],\n",
       "       [9.99053966e-01, 9.46033913e-04],\n",
       "       [3.79046124e-01, 6.20953876e-01],\n",
       "       [9.99604216e-01, 3.95783887e-04],\n",
       "       [9.84024362e-01, 1.59756381e-02],\n",
       "       [9.99646778e-01, 3.53222155e-04],\n",
       "       [9.90419611e-01, 9.58038864e-03],\n",
       "       [8.53514809e-01, 1.46485191e-01],\n",
       "       [8.22924853e-01, 1.77075147e-01],\n",
       "       [5.87187866e-01, 4.12812134e-01],\n",
       "       [9.99852707e-01, 1.47293361e-04],\n",
       "       [9.75614385e-01, 2.43856154e-02],\n",
       "       [9.99110508e-01, 8.89491780e-04],\n",
       "       [9.98138540e-01, 1.86145956e-03],\n",
       "       [9.97971769e-01, 2.02823088e-03],\n",
       "       [9.98493162e-01, 1.50683809e-03],\n",
       "       [9.99743970e-01, 2.56029906e-04],\n",
       "       [9.25765922e-01, 7.42340779e-02],\n",
       "       [3.98034568e-03, 9.96019654e-01],\n",
       "       [9.93184442e-01, 6.81555766e-03],\n",
       "       [8.43916253e-01, 1.56083747e-01],\n",
       "       [9.98911670e-01, 1.08832954e-03],\n",
       "       [9.99661656e-01, 3.38344219e-04],\n",
       "       [9.98522894e-01, 1.47710641e-03],\n",
       "       [9.96113642e-01, 3.88635761e-03],\n",
       "       [9.91682520e-01, 8.31747996e-03],\n",
       "       [8.95552136e-01, 1.04447864e-01],\n",
       "       [9.97183304e-01, 2.81669593e-03],\n",
       "       [9.65675230e-01, 3.43247704e-02],\n",
       "       [9.18236425e-01, 8.17635752e-02],\n",
       "       [9.98929526e-01, 1.07047356e-03],\n",
       "       [1.10381404e-02, 9.88961860e-01],\n",
       "       [9.93720019e-01, 6.27998112e-03],\n",
       "       [9.38207634e-01, 6.17923661e-02],\n",
       "       [1.49419409e-01, 8.50580591e-01],\n",
       "       [9.98635582e-01, 1.36441850e-03],\n",
       "       [9.98453441e-01, 1.54655896e-03],\n",
       "       [9.91238866e-01, 8.76113391e-03],\n",
       "       [9.97661100e-01, 2.33890042e-03],\n",
       "       [9.99926756e-01, 7.32443195e-05],\n",
       "       [9.83791777e-01, 1.62082229e-02],\n",
       "       [9.87880589e-01, 1.21194114e-02],\n",
       "       [9.99441848e-01, 5.58151975e-04],\n",
       "       [9.99248917e-01, 7.51082973e-04],\n",
       "       [7.85000528e-01, 2.14999472e-01],\n",
       "       [9.92433031e-01, 7.56696942e-03],\n",
       "       [9.49040029e-01, 5.09599714e-02],\n",
       "       [9.98572700e-01, 1.42730042e-03],\n",
       "       [9.99900363e-01, 9.96373273e-05],\n",
       "       [9.96085439e-01, 3.91456085e-03],\n",
       "       [9.99570673e-01, 4.29327316e-04],\n",
       "       [9.96434047e-01, 3.56595299e-03],\n",
       "       [2.32303187e-01, 7.67696813e-01],\n",
       "       [8.99072506e-01, 1.00927494e-01],\n",
       "       [9.56891320e-01, 4.31086802e-02],\n",
       "       [9.90246891e-01, 9.75310876e-03],\n",
       "       [9.83836339e-01, 1.61636606e-02],\n",
       "       [9.92014152e-01, 7.98584839e-03],\n",
       "       [9.81356418e-01, 1.86435820e-02],\n",
       "       [9.43052529e-01, 5.69474711e-02],\n",
       "       [9.63724166e-01, 3.62758335e-02],\n",
       "       [9.99786264e-01, 2.13735727e-04],\n",
       "       [9.19011725e-01, 8.09882748e-02],\n",
       "       [9.88188569e-01, 1.18114312e-02],\n",
       "       [9.96169465e-01, 3.83053482e-03],\n",
       "       [9.49718870e-01, 5.02811304e-02],\n",
       "       [9.51748169e-01, 4.82518309e-02],\n",
       "       [9.82103670e-01, 1.78963303e-02],\n",
       "       [9.96447274e-01, 3.55272588e-03],\n",
       "       [9.78834848e-01, 2.11651520e-02],\n",
       "       [9.99357951e-01, 6.42048985e-04],\n",
       "       [9.99749297e-01, 2.50702742e-04],\n",
       "       [8.19909010e-01, 1.80090990e-01],\n",
       "       [9.68640374e-01, 3.13596255e-02],\n",
       "       [9.99550937e-01, 4.49063031e-04],\n",
       "       [3.95902649e-01, 6.04097351e-01],\n",
       "       [9.88475689e-01, 1.15243114e-02],\n",
       "       [9.99656391e-01, 3.43608805e-04],\n",
       "       [7.20556654e-02, 9.27944335e-01],\n",
       "       [9.99805422e-01, 1.94578066e-04],\n",
       "       [9.99860804e-01, 1.39195853e-04],\n",
       "       [9.99372721e-01, 6.27279223e-04],\n",
       "       [9.46047353e-01, 5.39526471e-02],\n",
       "       [9.99531650e-01, 4.68350003e-04],\n",
       "       [9.99878651e-01, 1.21348545e-04],\n",
       "       [2.35598264e-01, 7.64401736e-01],\n",
       "       [9.86897312e-01, 1.31026883e-02],\n",
       "       [9.95599992e-01, 4.40000832e-03],\n",
       "       [9.98556981e-01, 1.44301916e-03],\n",
       "       [8.83528190e-02, 9.11647181e-01],\n",
       "       [9.77597574e-01, 2.24024258e-02],\n",
       "       [9.93906152e-01, 6.09384836e-03],\n",
       "       [9.88053973e-01, 1.19460271e-02],\n",
       "       [9.99645306e-01, 3.54694227e-04],\n",
       "       [9.99880396e-01, 1.19604105e-04],\n",
       "       [9.99381799e-01, 6.18201390e-04],\n",
       "       [2.66618043e-03, 9.97333820e-01],\n",
       "       [9.99575701e-01, 4.24298862e-04],\n",
       "       [9.98306006e-01, 1.69399384e-03],\n",
       "       [9.95886570e-01, 4.11343027e-03],\n",
       "       [9.90419342e-01, 9.58065770e-03],\n",
       "       [9.49677583e-01, 5.03224173e-02],\n",
       "       [7.56110215e-01, 2.43889785e-01],\n",
       "       [9.94915009e-01, 5.08499119e-03],\n",
       "       [9.97215455e-01, 2.78454548e-03],\n",
       "       [1.59714333e-03, 9.98402857e-01],\n",
       "       [9.67549512e-01, 3.24504882e-02],\n",
       "       [9.72813560e-01, 2.71864402e-02],\n",
       "       [8.75732474e-01, 1.24267526e-01],\n",
       "       [9.99447759e-01, 5.52241416e-04],\n",
       "       [9.98624148e-01, 1.37585242e-03],\n",
       "       [1.08189817e-02, 9.89181018e-01],\n",
       "       [9.94576056e-01, 5.42394406e-03],\n",
       "       [9.98699414e-01, 1.30058614e-03],\n",
       "       [9.98365044e-01, 1.63495599e-03],\n",
       "       [9.89039501e-01, 1.09604988e-02],\n",
       "       [9.99942447e-01, 5.75533936e-05],\n",
       "       [9.91312496e-01, 8.68750373e-03],\n",
       "       [6.49185385e-01, 3.50814615e-01],\n",
       "       [9.99833667e-01, 1.66333454e-04],\n",
       "       [9.99809875e-01, 1.90124694e-04],\n",
       "       [6.36437761e-01, 3.63562239e-01],\n",
       "       [7.51300042e-01, 2.48699958e-01],\n",
       "       [9.97331681e-01, 2.66831896e-03],\n",
       "       [9.52736792e-01, 4.72632082e-02],\n",
       "       [9.91290997e-01, 8.70900320e-03],\n",
       "       [9.66324049e-01, 3.36759511e-02],\n",
       "       [8.56974873e-01, 1.43025127e-01],\n",
       "       [5.31210004e-03, 9.94687900e-01],\n",
       "       [9.99746053e-01, 2.53946848e-04],\n",
       "       [9.98122695e-01, 1.87730522e-03],\n",
       "       [5.29412040e-01, 4.70587960e-01],\n",
       "       [9.88018070e-01, 1.19819295e-02],\n",
       "       [8.64827986e-02, 9.13517201e-01],\n",
       "       [9.99173623e-01, 8.26377191e-04],\n",
       "       [9.99839103e-01, 1.60896632e-04],\n",
       "       [9.90074653e-01, 9.92534664e-03],\n",
       "       [9.97964713e-01, 2.03528693e-03],\n",
       "       [9.89739193e-01, 1.02608072e-02],\n",
       "       [7.50895189e-01, 2.49104811e-01],\n",
       "       [9.99890686e-01, 1.09313900e-04],\n",
       "       [4.28300313e-01, 5.71699687e-01],\n",
       "       [9.80656990e-01, 1.93430098e-02],\n",
       "       [9.96742975e-01, 3.25702547e-03],\n",
       "       [9.88635376e-01, 1.13646244e-02],\n",
       "       [9.58381946e-01, 4.16180543e-02],\n",
       "       [9.99111986e-01, 8.88014321e-04],\n",
       "       [9.91465261e-01, 8.53473938e-03],\n",
       "       [9.98160286e-01, 1.83971364e-03],\n",
       "       [5.63054499e-01, 4.36945501e-01],\n",
       "       [9.98933829e-01, 1.06617051e-03],\n",
       "       [9.99531053e-01, 4.68947474e-04]])"
      ]
     },
     "execution_count": 156,
     "metadata": {},
     "output_type": "execute_result"
    }
   ],
   "source": [
    "Predicted_probability = logReg2.predict_proba(X_test)\n",
    "Predicted_probability"
   ]
  },
  {
   "cell_type": "code",
   "execution_count": 157,
   "metadata": {},
   "outputs": [
    {
     "name": "stdout",
     "output_type": "stream",
     "text": [
      "0.9410430839002267\n",
      "0.9804004620716211\n",
      "0.01959953792837889\n"
     ]
    }
   ],
   "source": [
    "from sklearn import metrics\n",
    "\n",
    "print (metrics.accuracy_score(Y_test, predicted))\n",
    "print (metrics.roc_auc_score(Y_test, Predicted_probability[:, 1]))\n",
    "print (metrics.roc_auc_score(Y_test, Predicted_probability[:, 0]))"
   ]
  },
  {
   "cell_type": "code",
   "execution_count": 158,
   "metadata": {},
   "outputs": [
    {
     "name": "stdout",
     "output_type": "stream",
     "text": [
      "[[362   9]\n",
      " [ 17  53]]\n",
      "              precision    recall  f1-score   support\n",
      "\n",
      "           0       0.96      0.98      0.97       371\n",
      "           1       0.85      0.76      0.80        70\n",
      "\n",
      "    accuracy                           0.94       441\n",
      "   macro avg       0.90      0.87      0.88       441\n",
      "weighted avg       0.94      0.94      0.94       441\n",
      "\n"
     ]
    }
   ],
   "source": [
    "print (metrics.confusion_matrix(Y_test, predicted))\n",
    "print (metrics.classification_report(Y_test, predicted))"
   ]
  },
  {
   "cell_type": "code",
   "execution_count": null,
   "metadata": {},
   "outputs": [],
   "source": []
  },
  {
   "cell_type": "code",
   "execution_count": 159,
   "metadata": {},
   "outputs": [
    {
     "name": "stdout",
     "output_type": "stream",
     "text": [
      "[1]\n"
     ]
    }
   ],
   "source": [
    "# Verifying the prediction of the model by giving a new input\n",
    "new = [[24,1,2,11,3,3,3,1,2,3456,1,2,2]]\n",
    "print(logReg.predict(new))"
   ]
  },
  {
   "cell_type": "code",
   "execution_count": 160,
   "metadata": {},
   "outputs": [
    {
     "name": "stdout",
     "output_type": "stream",
     "text": [
      "[[0.03518674 0.96481326]]\n"
     ]
    }
   ],
   "source": [
    "# probabilities of attrition 0-No and 1-Yes for new test case\n",
    "print(logReg.predict_proba(new))"
   ]
  },
  {
   "cell_type": "code",
   "execution_count": null,
   "metadata": {},
   "outputs": [],
   "source": []
  }
 ],
 "metadata": {
  "kernelspec": {
   "display_name": "Python 3",
   "language": "python",
   "name": "python3"
  },
  "language_info": {
   "codemirror_mode": {
    "name": "ipython",
    "version": 3
   },
   "file_extension": ".py",
   "mimetype": "text/x-python",
   "name": "python",
   "nbconvert_exporter": "python",
   "pygments_lexer": "ipython3",
   "version": "3.8.3"
  }
 },
 "nbformat": 4,
 "nbformat_minor": 4
}
