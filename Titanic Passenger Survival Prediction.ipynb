{
 "cells": [
  {
   "cell_type": "code",
   "execution_count": 1,
   "metadata": {},
   "outputs": [],
   "source": [
    "import pandas as pd\n",
    "import numpy as np\n",
    "\n",
    "import matplotlib\n",
    "import matplotlib.pyplot as plt\n",
    "from pandas.plotting import scatter_matrix\n",
    "%matplotlib inline\n",
    "\n",
    "import seaborn as sns\n",
    "sns.set(style='white',color_codes=True)\n",
    "sns.set(font_scale=1.5)\n",
    "\n",
    "from sklearn.linear_model import LogisticRegression\n",
    "from sklearn.model_selection import train_test_split\n",
    "\n",
    "from sklearn.metrics import confusion_matrix\n",
    "from sklearn.metrics import classification_report\n",
    "from sklearn.metrics import accuracy_score\n",
    "from sklearn.metrics import precision_score\n",
    "from sklearn.metrics import recall_score\n",
    "from sklearn.metrics import f1_score\n",
    "from sklearn import metrics"
   ]
  },
  {
   "cell_type": "code",
   "execution_count": 2,
   "metadata": {},
   "outputs": [
    {
     "data": {
      "text/plain": [
       "(891, 12)"
      ]
     },
     "execution_count": 2,
     "metadata": {},
     "output_type": "execute_result"
    }
   ],
   "source": [
    "# load the dataset\n",
    "df = pd.read_csv(\"D://M_AI//Machine Learning//Demo Datasets//Lesson 4//train.csv\")\n",
    "df.shape"
   ]
  },
  {
   "cell_type": "code",
   "execution_count": 3,
   "metadata": {},
   "outputs": [
    {
     "name": "stdout",
     "output_type": "stream",
     "text": [
      "<class 'pandas.core.frame.DataFrame'>\n",
      "RangeIndex: 891 entries, 0 to 890\n",
      "Data columns (total 12 columns):\n",
      " #   Column       Non-Null Count  Dtype  \n",
      "---  ------       --------------  -----  \n",
      " 0   PassengerId  891 non-null    int64  \n",
      " 1   Survived     891 non-null    int64  \n",
      " 2   Pclass       891 non-null    int64  \n",
      " 3   Name         891 non-null    object \n",
      " 4   Sex          891 non-null    object \n",
      " 5   Age          714 non-null    float64\n",
      " 6   SibSp        891 non-null    int64  \n",
      " 7   Parch        891 non-null    int64  \n",
      " 8   Ticket       891 non-null    object \n",
      " 9   Fare         891 non-null    float64\n",
      " 10  Cabin        204 non-null    object \n",
      " 11  Embarked     889 non-null    object \n",
      "dtypes: float64(2), int64(5), object(5)\n",
      "memory usage: 83.7+ KB\n"
     ]
    }
   ],
   "source": [
    "df.info()"
   ]
  },
  {
   "cell_type": "code",
   "execution_count": 4,
   "metadata": {},
   "outputs": [
    {
     "data": {
      "text/plain": [
       "0    549\n",
       "1    342\n",
       "Name: Survived, dtype: int64"
      ]
     },
     "execution_count": 4,
     "metadata": {},
     "output_type": "execute_result"
    }
   ],
   "source": [
    "df.Survived.value_counts()"
   ]
  },
  {
   "cell_type": "code",
   "execution_count": 5,
   "metadata": {},
   "outputs": [
    {
     "data": {
      "text/plain": [
       "male      577\n",
       "female    314\n",
       "Name: Sex, dtype: int64"
      ]
     },
     "execution_count": 5,
     "metadata": {},
     "output_type": "execute_result"
    }
   ],
   "source": [
    "df.Sex.value_counts()"
   ]
  },
  {
   "cell_type": "code",
   "execution_count": 6,
   "metadata": {},
   "outputs": [
    {
     "data": {
      "text/plain": [
       "S    644\n",
       "C    168\n",
       "Q     77\n",
       "Name: Embarked, dtype: int64"
      ]
     },
     "execution_count": 6,
     "metadata": {},
     "output_type": "execute_result"
    }
   ],
   "source": [
    "df.Embarked.value_counts()"
   ]
  },
  {
   "cell_type": "code",
   "execution_count": 7,
   "metadata": {},
   "outputs": [
    {
     "data": {
      "text/plain": [
       "PassengerId      0\n",
       "Survived         0\n",
       "Pclass           0\n",
       "Name             0\n",
       "Sex              0\n",
       "Age            177\n",
       "SibSp            0\n",
       "Parch            0\n",
       "Ticket           0\n",
       "Fare             0\n",
       "Cabin          687\n",
       "Embarked         2\n",
       "dtype: int64"
      ]
     },
     "execution_count": 7,
     "metadata": {},
     "output_type": "execute_result"
    }
   ],
   "source": [
    "# check for null values\n",
    "df.isna().sum()"
   ]
  },
  {
   "cell_type": "code",
   "execution_count": 8,
   "metadata": {},
   "outputs": [
    {
     "data": {
      "text/html": [
       "<div>\n",
       "<style scoped>\n",
       "    .dataframe tbody tr th:only-of-type {\n",
       "        vertical-align: middle;\n",
       "    }\n",
       "\n",
       "    .dataframe tbody tr th {\n",
       "        vertical-align: top;\n",
       "    }\n",
       "\n",
       "    .dataframe thead th {\n",
       "        text-align: right;\n",
       "    }\n",
       "</style>\n",
       "<table border=\"1\" class=\"dataframe\">\n",
       "  <thead>\n",
       "    <tr style=\"text-align: right;\">\n",
       "      <th></th>\n",
       "      <th>Survived</th>\n",
       "      <th>Pclass</th>\n",
       "      <th>Sex</th>\n",
       "      <th>Age</th>\n",
       "      <th>SibSp</th>\n",
       "      <th>Parch</th>\n",
       "      <th>Fare</th>\n",
       "      <th>Embarked</th>\n",
       "    </tr>\n",
       "  </thead>\n",
       "  <tbody>\n",
       "    <tr>\n",
       "      <th>0</th>\n",
       "      <td>0</td>\n",
       "      <td>3</td>\n",
       "      <td>male</td>\n",
       "      <td>22.0</td>\n",
       "      <td>1</td>\n",
       "      <td>0</td>\n",
       "      <td>7.2500</td>\n",
       "      <td>S</td>\n",
       "    </tr>\n",
       "    <tr>\n",
       "      <th>1</th>\n",
       "      <td>1</td>\n",
       "      <td>1</td>\n",
       "      <td>female</td>\n",
       "      <td>38.0</td>\n",
       "      <td>1</td>\n",
       "      <td>0</td>\n",
       "      <td>71.2833</td>\n",
       "      <td>C</td>\n",
       "    </tr>\n",
       "    <tr>\n",
       "      <th>2</th>\n",
       "      <td>1</td>\n",
       "      <td>3</td>\n",
       "      <td>female</td>\n",
       "      <td>26.0</td>\n",
       "      <td>0</td>\n",
       "      <td>0</td>\n",
       "      <td>7.9250</td>\n",
       "      <td>S</td>\n",
       "    </tr>\n",
       "    <tr>\n",
       "      <th>3</th>\n",
       "      <td>1</td>\n",
       "      <td>1</td>\n",
       "      <td>female</td>\n",
       "      <td>35.0</td>\n",
       "      <td>1</td>\n",
       "      <td>0</td>\n",
       "      <td>53.1000</td>\n",
       "      <td>S</td>\n",
       "    </tr>\n",
       "    <tr>\n",
       "      <th>4</th>\n",
       "      <td>0</td>\n",
       "      <td>3</td>\n",
       "      <td>male</td>\n",
       "      <td>35.0</td>\n",
       "      <td>0</td>\n",
       "      <td>0</td>\n",
       "      <td>8.0500</td>\n",
       "      <td>S</td>\n",
       "    </tr>\n",
       "  </tbody>\n",
       "</table>\n",
       "</div>"
      ],
      "text/plain": [
       "   Survived  Pclass     Sex   Age  SibSp  Parch     Fare Embarked\n",
       "0         0       3    male  22.0      1      0   7.2500        S\n",
       "1         1       1  female  38.0      1      0  71.2833        C\n",
       "2         1       3  female  26.0      0      0   7.9250        S\n",
       "3         1       1  female  35.0      1      0  53.1000        S\n",
       "4         0       3    male  35.0      0      0   8.0500        S"
      ]
     },
     "execution_count": 8,
     "metadata": {},
     "output_type": "execute_result"
    }
   ],
   "source": [
    "# drop the irrelated columns\n",
    "df = df.drop(['PassengerId','Name','Ticket','Cabin'],axis=1)\n",
    "df.head()"
   ]
  },
  {
   "cell_type": "code",
   "execution_count": 9,
   "metadata": {},
   "outputs": [
    {
     "data": {
      "text/plain": [
       "28.0"
      ]
     },
     "execution_count": 9,
     "metadata": {},
     "output_type": "execute_result"
    }
   ],
   "source": [
    "# check the age median\n",
    "df['Age'].median()"
   ]
  },
  {
   "cell_type": "code",
   "execution_count": 10,
   "metadata": {},
   "outputs": [],
   "source": [
    "# define age function to remove null values\n",
    "def age_approx(cols):\n",
    "    Age = cols[0]\n",
    "    Pclass = cols[1]\n",
    "    \n",
    "    if pd.isnull(Age):\n",
    "        if Pclass == 1:\n",
    "            return 37\n",
    "        elif Pclass == 2:\n",
    "            return 28\n",
    "        else:\n",
    "            return 22\n",
    "    else:\n",
    "        return Age"
   ]
  },
  {
   "cell_type": "code",
   "execution_count": 11,
   "metadata": {},
   "outputs": [
    {
     "data": {
      "text/html": [
       "<div>\n",
       "<style scoped>\n",
       "    .dataframe tbody tr th:only-of-type {\n",
       "        vertical-align: middle;\n",
       "    }\n",
       "\n",
       "    .dataframe tbody tr th {\n",
       "        vertical-align: top;\n",
       "    }\n",
       "\n",
       "    .dataframe thead th {\n",
       "        text-align: right;\n",
       "    }\n",
       "</style>\n",
       "<table border=\"1\" class=\"dataframe\">\n",
       "  <thead>\n",
       "    <tr style=\"text-align: right;\">\n",
       "      <th></th>\n",
       "      <th>Survived</th>\n",
       "      <th>Age</th>\n",
       "      <th>SibSp</th>\n",
       "      <th>Parch</th>\n",
       "      <th>Fare</th>\n",
       "    </tr>\n",
       "    <tr>\n",
       "      <th>Pclass</th>\n",
       "      <th></th>\n",
       "      <th></th>\n",
       "      <th></th>\n",
       "      <th></th>\n",
       "      <th></th>\n",
       "    </tr>\n",
       "  </thead>\n",
       "  <tbody>\n",
       "    <tr>\n",
       "      <th>1</th>\n",
       "      <td>0.629630</td>\n",
       "      <td>38.233441</td>\n",
       "      <td>0.416667</td>\n",
       "      <td>0.356481</td>\n",
       "      <td>84.154687</td>\n",
       "    </tr>\n",
       "    <tr>\n",
       "      <th>2</th>\n",
       "      <td>0.472826</td>\n",
       "      <td>29.877630</td>\n",
       "      <td>0.402174</td>\n",
       "      <td>0.380435</td>\n",
       "      <td>20.662183</td>\n",
       "    </tr>\n",
       "    <tr>\n",
       "      <th>3</th>\n",
       "      <td>0.242363</td>\n",
       "      <td>25.140620</td>\n",
       "      <td>0.615071</td>\n",
       "      <td>0.393075</td>\n",
       "      <td>13.675550</td>\n",
       "    </tr>\n",
       "  </tbody>\n",
       "</table>\n",
       "</div>"
      ],
      "text/plain": [
       "        Survived        Age     SibSp     Parch       Fare\n",
       "Pclass                                                    \n",
       "1       0.629630  38.233441  0.416667  0.356481  84.154687\n",
       "2       0.472826  29.877630  0.402174  0.380435  20.662183\n",
       "3       0.242363  25.140620  0.615071  0.393075  13.675550"
      ]
     },
     "execution_count": 11,
     "metadata": {},
     "output_type": "execute_result"
    }
   ],
   "source": [
    "df.groupby(df.Pclass).mean()"
   ]
  },
  {
   "cell_type": "code",
   "execution_count": 12,
   "metadata": {},
   "outputs": [],
   "source": [
    "# applying the age finvtion to remove null values\n",
    "df['Age'] = df[['Age','Pclass']].apply(age_approx,axis=1)"
   ]
  },
  {
   "cell_type": "code",
   "execution_count": 13,
   "metadata": {},
   "outputs": [
    {
     "data": {
      "text/plain": [
       "Survived    0\n",
       "Pclass      0\n",
       "Sex         0\n",
       "Age         0\n",
       "SibSp       0\n",
       "Parch       0\n",
       "Fare        0\n",
       "Embarked    2\n",
       "dtype: int64"
      ]
     },
     "execution_count": 13,
     "metadata": {},
     "output_type": "execute_result"
    }
   ],
   "source": [
    "df.isnull().sum()"
   ]
  },
  {
   "cell_type": "code",
   "execution_count": 14,
   "metadata": {},
   "outputs": [
    {
     "data": {
      "text/plain": [
       "Survived    0\n",
       "Pclass      0\n",
       "Sex         0\n",
       "Age         0\n",
       "SibSp       0\n",
       "Parch       0\n",
       "Fare        0\n",
       "Embarked    0\n",
       "dtype: int64"
      ]
     },
     "execution_count": 14,
     "metadata": {},
     "output_type": "execute_result"
    }
   ],
   "source": [
    "# dropping the embarked null values\n",
    "df.dropna(inplace=True)\n",
    "df.isnull().sum()"
   ]
  },
  {
   "cell_type": "code",
   "execution_count": 15,
   "metadata": {},
   "outputs": [
    {
     "data": {
      "text/plain": [
       "Survived      int64\n",
       "Pclass        int64\n",
       "Sex          object\n",
       "Age         float64\n",
       "SibSp         int64\n",
       "Parch         int64\n",
       "Fare        float64\n",
       "Embarked     object\n",
       "dtype: object"
      ]
     },
     "execution_count": 15,
     "metadata": {},
     "output_type": "execute_result"
    }
   ],
   "source": [
    "# check the data types of columns\n",
    "df.dtypes"
   ]
  },
  {
   "cell_type": "code",
   "execution_count": 16,
   "metadata": {},
   "outputs": [
    {
     "data": {
      "text/html": [
       "<div>\n",
       "<style scoped>\n",
       "    .dataframe tbody tr th:only-of-type {\n",
       "        vertical-align: middle;\n",
       "    }\n",
       "\n",
       "    .dataframe tbody tr th {\n",
       "        vertical-align: top;\n",
       "    }\n",
       "\n",
       "    .dataframe thead th {\n",
       "        text-align: right;\n",
       "    }\n",
       "</style>\n",
       "<table border=\"1\" class=\"dataframe\">\n",
       "  <thead>\n",
       "    <tr style=\"text-align: right;\">\n",
       "      <th></th>\n",
       "      <th>Survived</th>\n",
       "      <th>Pclass</th>\n",
       "      <th>Age</th>\n",
       "      <th>SibSp</th>\n",
       "      <th>Parch</th>\n",
       "      <th>Fare</th>\n",
       "      <th>Sex_female</th>\n",
       "      <th>Sex_male</th>\n",
       "      <th>Embarked_C</th>\n",
       "      <th>Embarked_Q</th>\n",
       "      <th>Embarked_S</th>\n",
       "    </tr>\n",
       "  </thead>\n",
       "  <tbody>\n",
       "    <tr>\n",
       "      <th>0</th>\n",
       "      <td>0</td>\n",
       "      <td>3</td>\n",
       "      <td>22.0</td>\n",
       "      <td>1</td>\n",
       "      <td>0</td>\n",
       "      <td>7.2500</td>\n",
       "      <td>0</td>\n",
       "      <td>1</td>\n",
       "      <td>0</td>\n",
       "      <td>0</td>\n",
       "      <td>1</td>\n",
       "    </tr>\n",
       "    <tr>\n",
       "      <th>1</th>\n",
       "      <td>1</td>\n",
       "      <td>1</td>\n",
       "      <td>38.0</td>\n",
       "      <td>1</td>\n",
       "      <td>0</td>\n",
       "      <td>71.2833</td>\n",
       "      <td>1</td>\n",
       "      <td>0</td>\n",
       "      <td>1</td>\n",
       "      <td>0</td>\n",
       "      <td>0</td>\n",
       "    </tr>\n",
       "    <tr>\n",
       "      <th>2</th>\n",
       "      <td>1</td>\n",
       "      <td>3</td>\n",
       "      <td>26.0</td>\n",
       "      <td>0</td>\n",
       "      <td>0</td>\n",
       "      <td>7.9250</td>\n",
       "      <td>1</td>\n",
       "      <td>0</td>\n",
       "      <td>0</td>\n",
       "      <td>0</td>\n",
       "      <td>1</td>\n",
       "    </tr>\n",
       "    <tr>\n",
       "      <th>3</th>\n",
       "      <td>1</td>\n",
       "      <td>1</td>\n",
       "      <td>35.0</td>\n",
       "      <td>1</td>\n",
       "      <td>0</td>\n",
       "      <td>53.1000</td>\n",
       "      <td>1</td>\n",
       "      <td>0</td>\n",
       "      <td>0</td>\n",
       "      <td>0</td>\n",
       "      <td>1</td>\n",
       "    </tr>\n",
       "    <tr>\n",
       "      <th>4</th>\n",
       "      <td>0</td>\n",
       "      <td>3</td>\n",
       "      <td>35.0</td>\n",
       "      <td>0</td>\n",
       "      <td>0</td>\n",
       "      <td>8.0500</td>\n",
       "      <td>0</td>\n",
       "      <td>1</td>\n",
       "      <td>0</td>\n",
       "      <td>0</td>\n",
       "      <td>1</td>\n",
       "    </tr>\n",
       "  </tbody>\n",
       "</table>\n",
       "</div>"
      ],
      "text/plain": [
       "   Survived  Pclass   Age  SibSp  Parch     Fare  Sex_female  Sex_male  \\\n",
       "0         0       3  22.0      1      0   7.2500           0         1   \n",
       "1         1       1  38.0      1      0  71.2833           1         0   \n",
       "2         1       3  26.0      0      0   7.9250           1         0   \n",
       "3         1       1  35.0      1      0  53.1000           1         0   \n",
       "4         0       3  35.0      0      0   8.0500           0         1   \n",
       "\n",
       "   Embarked_C  Embarked_Q  Embarked_S  \n",
       "0           0           0           1  \n",
       "1           1           0           0  \n",
       "2           0           0           1  \n",
       "3           0           0           1  \n",
       "4           0           0           1  "
      ]
     },
     "execution_count": 16,
     "metadata": {},
     "output_type": "execute_result"
    }
   ],
   "source": [
    "# get dummies to change Sex and Embarked dtypes ie from categorical to numerical values\n",
    "df_dummied = pd.get_dummies(df,columns=['Sex'])\n",
    "df_dummied = pd.get_dummies(df_dummied,columns=['Embarked'])\n",
    "df_dummied.head()"
   ]
  },
  {
   "cell_type": "code",
   "execution_count": 17,
   "metadata": {},
   "outputs": [
    {
     "data": {
      "text/plain": [
       "<AxesSubplot:>"
      ]
     },
     "execution_count": 17,
     "metadata": {},
     "output_type": "execute_result"
    },
    {
     "data": {
      "image/png": "[encoded data removed]",
      "text/plain": [
       "<Figure size 576x576 with 2 Axes>"
      ]
     },
     "metadata": {},
     "output_type": "display_data"
    }
   ],
   "source": [
    "# check the correlation using the heatmap\n",
    "plt.figure(figsize=(8,8))\n",
    "sns.heatmap(df_dummied.corr())"
   ]
  },
  {
   "cell_type": "code",
   "execution_count": 18,
   "metadata": {},
   "outputs": [],
   "source": [
    "used_features = ['Pclass','Age','SibSp','Parch','Sex_female','Sex_male','Embarked_C','Embarked_Q','Embarked_S']\n",
    "X = df_dummied[used_features].values\n",
    "y = df.Survived"
   ]
  },
  {
   "cell_type": "code",
   "execution_count": 19,
   "metadata": {},
   "outputs": [
    {
     "name": "stdout",
     "output_type": "stream",
     "text": [
      "(622, 9)\n",
      "(267, 9)\n",
      "(622,)\n",
      "(267,)\n"
     ]
    }
   ],
   "source": [
    "# split train and test data sets\n",
    "X_Train,X_test,y_Train,y_test = train_test_split(X,y,test_size=0.3,random_state=None)\n",
    "\n",
    "print(X_Train.shape)\n",
    "print(X_test.shape)\n",
    "print(y_Train.shape)\n",
    "print(y_test.shape)"
   ]
  },
  {
   "cell_type": "code",
   "execution_count": 20,
   "metadata": {},
   "outputs": [
    {
     "data": {
      "text/plain": [
       "LogisticRegression()"
      ]
     },
     "execution_count": 20,
     "metadata": {},
     "output_type": "execute_result"
    }
   ],
   "source": [
    "# call logistic regression \n",
    "logReg = LogisticRegression()\n",
    "logReg.fit(X_Train,y_Train)"
   ]
  },
  {
   "cell_type": "code",
   "execution_count": 21,
   "metadata": {},
   "outputs": [],
   "source": [
    "y_pred = logReg.predict(X_test)"
   ]
  },
  {
   "cell_type": "code",
   "execution_count": 22,
   "metadata": {},
   "outputs": [
    {
     "data": {
      "text/plain": [
       "array([[150,  23],\n",
       "       [ 21,  73]], dtype=int64)"
      ]
     },
     "execution_count": 22,
     "metadata": {},
     "output_type": "execute_result"
    }
   ],
   "source": [
    "metrics.confusion_matrix(y_test,y_pred)"
   ]
  },
  {
   "cell_type": "code",
   "execution_count": 23,
   "metadata": {},
   "outputs": [
    {
     "data": {
      "text/plain": [
       "0.8352059925093633"
      ]
     },
     "execution_count": 23,
     "metadata": {},
     "output_type": "execute_result"
    }
   ],
   "source": [
    "metrics.accuracy_score(y_test,y_pred)"
   ]
  },
  {
   "cell_type": "code",
   "execution_count": 24,
   "metadata": {},
   "outputs": [
    {
     "name": "stdout",
     "output_type": "stream",
     "text": [
      "              precision    recall  f1-score   support\n",
      "\n",
      "           0       0.88      0.87      0.87       173\n",
      "           1       0.76      0.78      0.77        94\n",
      "\n",
      "    accuracy                           0.84       267\n",
      "   macro avg       0.82      0.82      0.82       267\n",
      "weighted avg       0.84      0.84      0.84       267\n",
      "\n"
     ]
    }
   ],
   "source": [
    "print(classification_report(y_test,y_pred))"
   ]
  },
  {
   "cell_type": "code",
   "execution_count": 25,
   "metadata": {},
   "outputs": [
    {
     "name": "stdout",
     "output_type": "stream",
     "text": [
      "[[-1.11312704 -0.04049975 -0.30829842 -0.02029053  1.22225686 -1.21976132\n",
      "   0.20188916  0.11339479 -0.31278841]]\n",
      "[3.88825743]\n"
     ]
    }
   ],
   "source": [
    "# print coefficients and intercepts\n",
    "print(logReg.coef_)\n",
    "print(logReg.intercept_)"
   ]
  },
  {
   "cell_type": "code",
   "execution_count": 26,
   "metadata": {},
   "outputs": [
    {
     "name": "stdout",
     "output_type": "stream",
     "text": [
      "[[0.86699746 0.13300254]\n",
      " [0.13264064 0.86735936]\n",
      " [0.34912376 0.65087624]\n",
      " [0.86225752 0.13774248]\n",
      " [0.86759207 0.13240793]\n",
      " [0.86699746 0.13300254]\n",
      " [0.2702147  0.7297853 ]\n",
      " [0.91691606 0.08308394]\n",
      " [0.21678067 0.78321933]\n",
      " [0.27858688 0.72141312]\n",
      " [0.76251872 0.23748128]\n",
      " [0.86699746 0.13300254]\n",
      " [0.57961908 0.42038092]\n",
      " [0.81140066 0.18859934]\n",
      " [0.90193533 0.09806467]\n",
      " [0.84343191 0.15656809]\n",
      " [0.67110474 0.32889526]\n",
      " [0.80976511 0.19023489]\n",
      " [0.84718213 0.15281787]\n",
      " [0.25312244 0.74687756]\n",
      " [0.86699746 0.13300254]\n",
      " [0.89870941 0.10129059]\n",
      " [0.8363982  0.1636018 ]\n",
      " [0.51118234 0.48881766]\n",
      " [0.26343681 0.73656319]\n",
      " [0.2702147  0.7297853 ]\n",
      " [0.80049135 0.19950865]\n",
      " [0.56363059 0.43636941]\n",
      " [0.96809978 0.03190022]\n",
      " [0.9430079  0.0569921 ]\n",
      " [0.74851446 0.25148554]\n",
      " [0.9137782  0.0862218 ]\n",
      " [0.4741305  0.5258695 ]\n",
      " [0.93901841 0.06098159]\n",
      " [0.22259657 0.77740343]\n",
      " [0.23609847 0.76390153]\n",
      " [0.79467472 0.20532528]\n",
      " [0.86654936 0.13345064]\n",
      " [0.89260843 0.10739157]\n",
      " [0.05342747 0.94657253]\n",
      " [0.93611554 0.06388446]\n",
      " [0.93611554 0.06388446]\n",
      " [0.79575811 0.20424189]\n",
      " [0.12359596 0.87640404]\n",
      " [0.2702147  0.7297853 ]\n",
      " [0.8418648  0.1581352 ]\n",
      " [0.39258333 0.60741667]\n",
      " [0.17672614 0.82327386]\n",
      " [0.30891802 0.69108198]\n",
      " [0.13631079 0.86368921]\n",
      " [0.93731829 0.06268171]\n",
      " [0.05767076 0.94232924]\n",
      " [0.1429829  0.8570171 ]\n",
      " [0.94079182 0.05920818]\n",
      " [0.90717887 0.09282113]\n",
      " [0.08374737 0.91625263]\n",
      " [0.86225752 0.13774248]\n",
      " [0.73982111 0.26017889]\n",
      " [0.20481308 0.79518692]\n",
      " [0.93393415 0.06606585]\n",
      " [0.56363059 0.43636941]\n",
      " [0.79575811 0.20424189]\n",
      " [0.80976511 0.19023489]\n",
      " [0.2472225  0.7527775 ]\n",
      " [0.2702147  0.7297853 ]\n",
      " [0.2702147  0.7297853 ]\n",
      " [0.83524129 0.16475871]\n",
      " [0.56363059 0.43636941]\n",
      " [0.85737644 0.14262356]\n",
      " [0.86225752 0.13774248]\n",
      " [0.55976549 0.44023451]\n",
      " [0.1320474  0.8679526 ]\n",
      " [0.43079593 0.56920407]\n",
      " [0.62801455 0.37198545]\n",
      " [0.36668041 0.63331959]\n",
      " [0.29191516 0.70808484]\n",
      " [0.20556181 0.79443819]\n",
      " [0.63548441 0.36451559]\n",
      " [0.73195011 0.26804989]\n",
      " [0.85235201 0.14764799]\n",
      " [0.93489873 0.06510127]\n",
      " [0.48298456 0.51701544]\n",
      " [0.13264064 0.86735936]\n",
      " [0.54361646 0.45638354]\n",
      " [0.86179599 0.13820401]\n",
      " [0.0566202  0.9433798 ]\n",
      " [0.80976511 0.19023489]\n",
      " [0.89260843 0.10739157]\n",
      " [0.46573668 0.53426332]\n",
      " [0.36184844 0.63815156]\n",
      " [0.85235201 0.14764799]\n",
      " [0.15651928 0.84348072]\n",
      " [0.93991124 0.06008876]\n",
      " [0.59335094 0.40664906]\n",
      " [0.73195011 0.26804989]\n",
      " [0.7360241  0.2639759 ]\n",
      " [0.63077144 0.36922856]\n",
      " [0.86225752 0.13774248]\n",
      " [0.87159859 0.12840141]\n",
      " [0.89870941 0.10129059]\n",
      " [0.86225752 0.13774248]\n",
      " [0.09185462 0.90814538]\n",
      " [0.14397467 0.85602533]\n",
      " [0.56363059 0.43636941]\n",
      " [0.56363059 0.43636941]\n",
      " [0.43566667 0.56433333]\n",
      " [0.88039406 0.11960594]\n",
      " [0.50322782 0.49677218]\n",
      " [0.3964224  0.6035776 ]\n",
      " [0.86699746 0.13300254]\n",
      " [0.86699746 0.13300254]\n",
      " [0.87606329 0.12393671]\n",
      " [0.14161062 0.85838938]\n",
      " [0.86898044 0.13101956]\n",
      " [0.88982803 0.11017197]\n",
      " [0.14368791 0.85631209]\n",
      " [0.86699746 0.13300254]\n",
      " [0.41961553 0.58038447]\n",
      " [0.27858688 0.72141312]\n",
      " [0.2702147  0.7297853 ]\n",
      " [0.9568416  0.0431584 ]\n",
      " [0.26114987 0.73885013]\n",
      " [0.24431237 0.75568763]\n",
      " [0.59335094 0.40664906]\n",
      " [0.73195011 0.26804989]\n",
      " [0.23245857 0.76754143]\n",
      " [0.62019987 0.37980013]\n",
      " [0.21832062 0.78167938]\n",
      " [0.91326331 0.08673669]\n",
      " [0.89870941 0.10129059]\n",
      " [0.80748674 0.19251326]\n",
      " [0.25186678 0.74813322]\n",
      " [0.93611554 0.06388446]\n",
      " [0.90717887 0.09282113]\n",
      " [0.11663546 0.88336454]\n",
      " [0.08721634 0.91278366]\n",
      " [0.84343191 0.15656809]\n",
      " [0.82800242 0.17199758]\n",
      " [0.08374737 0.91625263]\n",
      " [0.86225752 0.13774248]\n",
      " [0.07318342 0.92681658]\n",
      " [0.75510708 0.24489292]\n",
      " [0.65476285 0.34523715]\n",
      " [0.2702147  0.7297853 ]\n",
      " [0.2702147  0.7297853 ]\n",
      " [0.79575811 0.20424189]\n",
      " [0.90717887 0.09282113]\n",
      " [0.30474222 0.69525778]\n",
      " [0.78227793 0.21772207]\n",
      " [0.33989434 0.66010566]\n",
      " [0.92905508 0.07094492]\n",
      " [0.8418648  0.1581352 ]\n",
      " [0.4000273  0.5999727 ]\n",
      " [0.2702147  0.7297853 ]\n",
      " [0.85983476 0.14016524]\n",
      " [0.462797   0.537203  ]\n",
      " [0.96199931 0.03800069]\n",
      " [0.21319719 0.78680281]\n",
      " [0.79210122 0.20789878]\n",
      " [0.7139187  0.2860813 ]\n",
      " [0.89260843 0.10739157]\n",
      " [0.77687334 0.22312666]\n",
      " [0.76709769 0.23290231]\n",
      " [0.90984421 0.09015579]\n",
      " [0.81000404 0.18999596]\n",
      " [0.12359596 0.87640404]\n",
      " [0.94104704 0.05895296]\n",
      " [0.46795132 0.53204868]\n",
      " [0.87831111 0.12168889]\n",
      " [0.05199143 0.94800857]\n",
      " [0.85737644 0.14262356]\n",
      " [0.64555147 0.35444853]\n",
      " [0.82575506 0.17424494]\n",
      " [0.56486421 0.43513579]\n",
      " [0.92571544 0.07428456]\n",
      " [0.36184844 0.63815156]\n",
      " [0.65476285 0.34523715]\n",
      " [0.80976511 0.19023489]\n",
      " [0.50105927 0.49894073]\n",
      " [0.86699746 0.13300254]\n",
      " [0.88039406 0.11960594]\n",
      " [0.81000404 0.18999596]\n",
      " [0.40686594 0.59313406]\n",
      " [0.65946419 0.34053581]\n",
      " [0.2909671  0.7090329 ]\n",
      " [0.25016594 0.74983406]\n",
      " [0.44950027 0.55049973]\n",
      " [0.04062172 0.95937828]\n",
      " [0.72392985 0.27607015]\n",
      " [0.85495867 0.14504133]\n",
      " [0.87662314 0.12337686]\n",
      " [0.67992817 0.32007183]\n",
      " [0.88670654 0.11329346]\n",
      " [0.91520779 0.08479221]\n",
      " [0.86699746 0.13300254]\n",
      " [0.79059857 0.20940143]\n",
      " [0.39846407 0.60153593]\n",
      " [0.09185462 0.90814538]\n",
      " [0.93226069 0.06773931]\n",
      " [0.04814094 0.95185906]\n",
      " [0.85235201 0.14764799]\n",
      " [0.57947889 0.42052111]\n",
      " [0.89425613 0.10574387]\n",
      " [0.73195011 0.26804989]\n",
      " [0.29808337 0.70191663]\n",
      " [0.26087092 0.73912908]\n",
      " [0.29083166 0.70916834]\n",
      " [0.64104621 0.35895379]\n",
      " [0.91053338 0.08946662]\n",
      " [0.88459343 0.11540657]\n",
      " [0.85235201 0.14764799]\n",
      " [0.70157581 0.29842419]\n",
      " [0.92571544 0.07428456]\n",
      " [0.87824526 0.12175474]\n",
      " [0.90717887 0.09282113]\n",
      " [0.88459343 0.11540657]\n",
      " [0.03815184 0.96184816]\n",
      " [0.40810724 0.59189276]\n",
      " [0.73195011 0.26804989]\n",
      " [0.33509388 0.66490612]\n",
      " [0.43566667 0.56433333]\n",
      " [0.89036479 0.10963521]\n",
      " [0.90012963 0.09987037]\n",
      " [0.87793013 0.12206987]\n",
      " [0.42190283 0.57809717]\n",
      " [0.22170384 0.77829616]\n",
      " [0.87831111 0.12168889]\n",
      " [0.80976511 0.19023489]\n",
      " [0.13264064 0.86735936]\n",
      " [0.37140501 0.62859499]\n",
      " [0.81379142 0.18620858]\n",
      " [0.65476285 0.34523715]\n",
      " [0.86699746 0.13300254]\n",
      " [0.062927   0.937073  ]\n",
      " [0.84718213 0.15281787]\n",
      " [0.85235201 0.14764799]\n",
      " [0.44927876 0.55072124]\n",
      " [0.18831546 0.81168454]\n",
      " [0.80976511 0.19023489]\n",
      " [0.89453418 0.10546582]\n",
      " [0.73195011 0.26804989]\n",
      " [0.88039406 0.11960594]\n",
      " [0.2702147  0.7297853 ]\n",
      " [0.80976511 0.19023489]\n",
      " [0.87431018 0.12568982]\n",
      " [0.26230291 0.73769709]\n",
      " [0.36766064 0.63233936]\n",
      " [0.09388397 0.90611603]\n",
      " [0.80344791 0.19655209]\n",
      " [0.11096874 0.88903126]\n",
      " [0.78381483 0.21618517]\n",
      " [0.86938519 0.13061481]\n",
      " [0.64104621 0.35895379]\n",
      " [0.65946419 0.34053581]\n",
      " [0.66849967 0.33150033]\n",
      " [0.8363982  0.1636018 ]\n",
      " [0.85881561 0.14118439]\n",
      " [0.80976511 0.19023489]\n",
      " [0.79575811 0.20424189]\n",
      " [0.79575811 0.20424189]\n",
      " [0.29603231 0.70396769]\n",
      " [0.56363059 0.43636941]\n",
      " [0.88506128 0.11493872]\n",
      " [0.65301262 0.34698738]\n",
      " [0.21159746 0.78840254]\n",
      " [0.03669601 0.96330399]\n",
      " [0.86699746 0.13300254]]\n"
     ]
    }
   ],
   "source": [
    "# predict surviving probability\n",
    "survive_prob = logReg.predict_proba(X_test)\n",
    "print(survive_prob)"
   ]
  },
  {
   "cell_type": "code",
   "execution_count": 27,
   "metadata": {},
   "outputs": [
    {
     "data": {
      "text/plain": [
       "(267, 2)"
      ]
     },
     "execution_count": 27,
     "metadata": {},
     "output_type": "execute_result"
    }
   ],
   "source": [
    "survive_prob.shape"
   ]
  },
  {
   "cell_type": "code",
   "execution_count": 28,
   "metadata": {},
   "outputs": [
    {
     "data": {
      "text/plain": [
       "(418, 11)"
      ]
     },
     "execution_count": 28,
     "metadata": {},
     "output_type": "execute_result"
    }
   ],
   "source": [
    "df_test= pd.read_csv(\"D://test.csv\")\n",
    "df_test.shape"
   ]
  },
  {
   "cell_type": "code",
   "execution_count": 30,
   "metadata": {},
   "outputs": [],
   "source": []
  },
  {
   "cell_type": "code",
   "execution_count": 31,
   "metadata": {},
   "outputs": [
    {
     "ename": "AttributeError",
     "evalue": "'NoneType' object has no attribute 'isnull'",
     "output_type": "error",
     "traceback": [
      "\u001b[1;31m---------------------------------------------------------------------------\u001b[0m",
      "\u001b[1;31mAttributeError\u001b[0m                            Traceback (most recent call last)",
      "\u001b[1;32m<ipython-input-31-47fe1bd72010>\u001b[0m in \u001b[0;36m<module>\u001b[1;34m\u001b[0m\n\u001b[1;32m----> 1\u001b[1;33m \u001b[0mdf_test\u001b[0m\u001b[1;33m.\u001b[0m\u001b[0misnull\u001b[0m\u001b[1;33m(\u001b[0m\u001b[1;33m)\u001b[0m\u001b[1;33m.\u001b[0m\u001b[0msum\u001b[0m\u001b[1;33m(\u001b[0m\u001b[1;33m)\u001b[0m\u001b[1;33m\u001b[0m\u001b[1;33m\u001b[0m\u001b[0m\n\u001b[0m",
      "\u001b[1;31mAttributeError\u001b[0m: 'NoneType' object has no attribute 'isnull'"
     ]
    }
   ],
   "source": []
  },
  {
   "cell_type": "code",
   "execution_count": null,
   "metadata": {},
   "outputs": [],
   "source": []
  }
 ],
 "metadata": {
  "kernelspec": {
   "display_name": "Python 3",
   "language": "python",
   "name": "python3"
  },
  "language_info": {
   "codemirror_mode": {
    "name": "ipython",
    "version": 3
   },
   "file_extension": ".py",
   "mimetype": "text/x-python",
   "name": "python",
   "nbconvert_exporter": "python",
   "pygments_lexer": "ipython3",
   "version": "3.8.5"
  }
 },
 "nbformat": 4,
 "nbformat_minor": 4
}
