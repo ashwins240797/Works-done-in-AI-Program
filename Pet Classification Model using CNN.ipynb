{
 "cells": [
  {
   "cell_type": "code",
   "execution_count": 88,
   "metadata": {},
   "outputs": [],
   "source": [
    "import numpy as np\n",
    "import pandas as pd\n",
    "import tensorflow as tf\n",
    "from sklearn.model_selection import train_test_split\n",
    "from keras.preprocessing.image import ImageDataGenerator, load_img\n",
    "from keras.utils import to_categorical"
   ]
  },
  {
   "cell_type": "code",
   "execution_count": 89,
   "metadata": {},
   "outputs": [],
   "source": [
    "df = ImageDataGenerator(rescale = 0.1/255)"
   ]
  },
  {
   "cell_type": "code",
   "execution_count": 90,
   "metadata": {},
   "outputs": [
    {
     "name": "stdout",
     "output_type": "stream",
     "text": [
      "Found 40 images belonging to 2 classes.\n"
     ]
    }
   ],
   "source": [
    "#Load the train data\n",
    "train = df.flow_from_directory('D://M_AI//Deep Learning//Datasets//data//train',class_mode='binary')"
   ]
  },
  {
   "cell_type": "code",
   "execution_count": 91,
   "metadata": {},
   "outputs": [
    {
     "name": "stdout",
     "output_type": "stream",
     "text": [
      "Found 20 images belonging to 2 classes.\n"
     ]
    }
   ],
   "source": [
    "#Load the test data\n",
    "test = df.flow_from_directory('D://M_AI//Deep Learning//Datasets//data//test',class_mode='binary')"
   ]
  },
  {
   "cell_type": "code",
   "execution_count": 92,
   "metadata": {},
   "outputs": [],
   "source": [
    "#Build CNN Model\n",
    "\n",
    "model = tf.keras.models.Sequential()\n",
    "model.add(tf.keras.layers.BatchNormalization())\n",
    "model.add(tf.keras.layers.Conv2D(32,kernel_size=(5,5), activation='relu',input_shape=(256,256,3)))\n",
    "model.add(tf.keras.layers.MaxPool2D(pool_size=(2,2)))\n",
    "model.add(tf.keras.layers.Conv2D(64,kernel_size=(5,5), activation='relu'))\n",
    "model.add(tf.keras.layers.MaxPool2D(pool_size=(2,2)))\n",
    "model.add(tf.keras.layers.Dropout(0.4))\n",
    "model.add(tf.keras.layers.Flatten())\n",
    "model.add(tf.keras.layers.Dense(32,activation='relu'))\n",
    "model.add(tf.keras.layers.Dense(1,activation='sigmoid'))\n",
    "\n"
   ]
  },
  {
   "cell_type": "code",
   "execution_count": 93,
   "metadata": {},
   "outputs": [],
   "source": [
    "# Add the optimizer\n",
    "sgd_optimizer = tf.keras.optimizers.SGD(lr=0.01)"
   ]
  },
  {
   "cell_type": "code",
   "execution_count": 94,
   "metadata": {},
   "outputs": [],
   "source": [
    "#Compile \n",
    "model.compile(optimizer=sgd_optimizer,loss='binary_crossentropy',  metrics=['accuracy'])\n"
   ]
  },
  {
   "cell_type": "code",
   "execution_count": 95,
   "metadata": {},
   "outputs": [
    {
     "name": "stdout",
     "output_type": "stream",
     "text": [
      "Epoch 1/100\n",
      "2/2 [==============================] - 3s 966ms/step - loss: 0.7290 - accuracy: 0.4833 - val_loss: 0.6967 - val_accuracy: 0.5000\n",
      "Epoch 2/100\n",
      "2/2 [==============================] - 3s 2s/step - loss: 1.3396 - accuracy: 0.5083 - val_loss: 0.6931 - val_accuracy: 0.5500\n",
      "Epoch 3/100\n",
      "2/2 [==============================] - 3s 2s/step - loss: 0.6869 - accuracy: 0.5583 - val_loss: 0.6930 - val_accuracy: 0.6000\n",
      "Epoch 4/100\n",
      "2/2 [==============================] - 3s 772ms/step - loss: 0.6784 - accuracy: 0.5542 - val_loss: 0.6931 - val_accuracy: 0.5500\n",
      "Epoch 5/100\n",
      "2/2 [==============================] - 3s 772ms/step - loss: 0.6723 - accuracy: 0.5062 - val_loss: 0.6929 - val_accuracy: 0.5000\n",
      "Epoch 6/100\n",
      "2/2 [==============================] - 3s 2s/step - loss: 0.6444 - accuracy: 0.5417 - val_loss: 0.6928 - val_accuracy: 0.6000\n",
      "Epoch 7/100\n",
      "2/2 [==============================] - 3s 2s/step - loss: 0.6385 - accuracy: 0.6417 - val_loss: 0.6929 - val_accuracy: 0.5500\n",
      "Epoch 8/100\n",
      "2/2 [==============================] - 3s 2s/step - loss: 0.6088 - accuracy: 0.7750 - val_loss: 0.6929 - val_accuracy: 0.5500\n",
      "Epoch 9/100\n",
      "2/2 [==============================] - 3s 783ms/step - loss: 0.5818 - accuracy: 0.7875 - val_loss: 0.6929 - val_accuracy: 0.5500\n",
      "Epoch 10/100\n",
      "2/2 [==============================] - 3s 2s/step - loss: 0.5425 - accuracy: 0.9000 - val_loss: 0.6930 - val_accuracy: 0.4500\n",
      "Epoch 11/100\n",
      "2/2 [==============================] - 3s 2s/step - loss: 0.5389 - accuracy: 0.8417 - val_loss: 0.6924 - val_accuracy: 0.7000\n",
      "Epoch 12/100\n",
      "2/2 [==============================] - 3s 2s/step - loss: 0.5535 - accuracy: 0.8000 - val_loss: 0.6931 - val_accuracy: 0.5500\n",
      "Epoch 13/100\n",
      "2/2 [==============================] - 3s 787ms/step - loss: 0.4699 - accuracy: 0.8375 - val_loss: 0.6944 - val_accuracy: 0.4000\n",
      "Epoch 14/100\n",
      "2/2 [==============================] - 3s 776ms/step - loss: 0.4251 - accuracy: 0.9229 - val_loss: 0.6937 - val_accuracy: 0.5000\n",
      "Epoch 15/100\n",
      "2/2 [==============================] - 3s 2s/step - loss: 0.5501 - accuracy: 0.7083 - val_loss: 0.6929 - val_accuracy: 0.5000\n",
      "Epoch 16/100\n",
      "2/2 [==============================] - 3s 2s/step - loss: 0.3777 - accuracy: 0.9083 - val_loss: 0.6938 - val_accuracy: 0.4000\n",
      "Epoch 17/100\n",
      "2/2 [==============================] - 3s 2s/step - loss: 0.3999 - accuracy: 0.8333 - val_loss: 0.6930 - val_accuracy: 0.5000\n",
      "Epoch 18/100\n",
      "2/2 [==============================] - 3s 2s/step - loss: 0.6465 - accuracy: 0.6333 - val_loss: 0.6927 - val_accuracy: 0.4500\n",
      "Epoch 19/100\n",
      "2/2 [==============================] - 3s 2s/step - loss: 0.3071 - accuracy: 0.9667 - val_loss: 0.6927 - val_accuracy: 0.4000\n",
      "Epoch 20/100\n",
      "2/2 [==============================] - 3s 2s/step - loss: 0.2762 - accuracy: 0.9250 - val_loss: 0.6928 - val_accuracy: 0.4500\n",
      "Epoch 21/100\n",
      "2/2 [==============================] - 3s 2s/step - loss: 0.2358 - accuracy: 0.9667 - val_loss: 0.6929 - val_accuracy: 0.4000\n",
      "Epoch 22/100\n",
      "2/2 [==============================] - 3s 774ms/step - loss: 0.2476 - accuracy: 0.9458 - val_loss: 0.6939 - val_accuracy: 0.4000\n",
      "Epoch 23/100\n",
      "2/2 [==============================] - 3s 2s/step - loss: 0.2033 - accuracy: 0.9667 - val_loss: 0.6929 - val_accuracy: 0.4000\n",
      "Epoch 24/100\n",
      "2/2 [==============================] - 3s 2s/step - loss: 0.3297 - accuracy: 0.8333 - val_loss: 0.6913 - val_accuracy: 0.4500\n",
      "Epoch 25/100\n",
      "2/2 [==============================] - 3s 772ms/step - loss: 0.2264 - accuracy: 0.9458 - val_loss: 0.6884 - val_accuracy: 0.4500\n",
      "Epoch 26/100\n",
      "2/2 [==============================] - 3s 2s/step - loss: 0.3728 - accuracy: 0.7667 - val_loss: 0.6941 - val_accuracy: 0.5000\n",
      "Epoch 27/100\n",
      "2/2 [==============================] - 3s 778ms/step - loss: 0.3845 - accuracy: 0.7021 - val_loss: 0.6938 - val_accuracy: 0.4000\n",
      "Epoch 28/100\n",
      "2/2 [==============================] - 3s 773ms/step - loss: 0.1282 - accuracy: 1.0000 - val_loss: 0.6901 - val_accuracy: 0.5500\n",
      "Epoch 29/100\n",
      "2/2 [==============================] - 3s 770ms/step - loss: 0.1059 - accuracy: 1.0000 - val_loss: 0.6899 - val_accuracy: 0.4500\n",
      "Epoch 30/100\n",
      "2/2 [==============================] - 3s 2s/step - loss: 0.0848 - accuracy: 1.0000 - val_loss: 0.6894 - val_accuracy: 0.5500\n",
      "Epoch 31/100\n",
      "2/2 [==============================] - 3s 2s/step - loss: 0.1201 - accuracy: 1.0000 - val_loss: 0.6885 - val_accuracy: 0.7000\n",
      "Epoch 32/100\n",
      "2/2 [==============================] - 3s 2s/step - loss: 0.0780 - accuracy: 1.0000 - val_loss: 0.6881 - val_accuracy: 0.5500\n",
      "Epoch 33/100\n",
      "2/2 [==============================] - 3s 2s/step - loss: 0.0494 - accuracy: 1.0000 - val_loss: 0.6882 - val_accuracy: 0.6000\n",
      "Epoch 34/100\n",
      "2/2 [==============================] - 3s 2s/step - loss: 0.0498 - accuracy: 1.0000 - val_loss: 0.6868 - val_accuracy: 0.5500\n",
      "Epoch 35/100\n",
      "2/2 [==============================] - 3s 2s/step - loss: 0.0367 - accuracy: 1.0000 - val_loss: 0.6864 - val_accuracy: 0.5500\n",
      "Epoch 36/100\n",
      "2/2 [==============================] - 3s 2s/step - loss: 0.0480 - accuracy: 1.0000 - val_loss: 0.6862 - val_accuracy: 0.7000\n",
      "Epoch 37/100\n",
      "2/2 [==============================] - 3s 777ms/step - loss: 0.0395 - accuracy: 1.0000 - val_loss: 0.6883 - val_accuracy: 0.7000\n",
      "Epoch 38/100\n",
      "2/2 [==============================] - 3s 786ms/step - loss: 0.0365 - accuracy: 1.0000 - val_loss: 0.6870 - val_accuracy: 0.5500\n",
      "Epoch 39/100\n",
      "2/2 [==============================] - 3s 781ms/step - loss: 0.0338 - accuracy: 1.0000 - val_loss: 0.6838 - val_accuracy: 0.5000\n",
      "Epoch 40/100\n",
      "2/2 [==============================] - 3s 2s/step - loss: 0.0656 - accuracy: 1.0000 - val_loss: 0.6861 - val_accuracy: 0.5500\n",
      "Epoch 41/100\n",
      "2/2 [==============================] - 3s 2s/step - loss: 0.0328 - accuracy: 1.0000 - val_loss: 0.6852 - val_accuracy: 0.6000\n",
      "Epoch 42/100\n",
      "2/2 [==============================] - 3s 2s/step - loss: 0.0274 - accuracy: 1.0000 - val_loss: 0.6853 - val_accuracy: 0.6000\n",
      "Epoch 43/100\n",
      "2/2 [==============================] - 3s 2s/step - loss: 0.0320 - accuracy: 1.0000 - val_loss: 0.6865 - val_accuracy: 0.6000\n",
      "Epoch 44/100\n",
      "2/2 [==============================] - 3s 2s/step - loss: 0.0226 - accuracy: 1.0000 - val_loss: 0.6864 - val_accuracy: 0.6000\n",
      "Epoch 45/100\n",
      "2/2 [==============================] - 3s 2s/step - loss: 0.0157 - accuracy: 1.0000 - val_loss: 0.6860 - val_accuracy: 0.6000\n",
      "Epoch 46/100\n",
      "2/2 [==============================] - 3s 2s/step - loss: 0.0185 - accuracy: 1.0000 - val_loss: 0.6860 - val_accuracy: 0.6000\n",
      "Epoch 47/100\n",
      "2/2 [==============================] - 3s 783ms/step - loss: 0.0183 - accuracy: 1.0000 - val_loss: 0.6911 - val_accuracy: 0.5000\n",
      "Epoch 48/100\n",
      "2/2 [==============================] - 3s 773ms/step - loss: 0.0231 - accuracy: 1.0000 - val_loss: 0.6895 - val_accuracy: 0.5000\n",
      "Epoch 49/100\n",
      "2/2 [==============================] - 3s 774ms/step - loss: 0.0161 - accuracy: 1.0000 - val_loss: 0.6812 - val_accuracy: 0.5000\n",
      "Epoch 50/100\n",
      "2/2 [==============================] - 3s 786ms/step - loss: 0.0636 - accuracy: 1.0000 - val_loss: 0.6851 - val_accuracy: 0.5000\n",
      "Epoch 51/100\n",
      "2/2 [==============================] - 3s 2s/step - loss: 0.0196 - accuracy: 1.0000 - val_loss: 0.6859 - val_accuracy: 0.5500\n",
      "Epoch 52/100\n",
      "2/2 [==============================] - 3s 2s/step - loss: 0.0089 - accuracy: 1.0000 - val_loss: 0.6855 - val_accuracy: 0.5500\n",
      "Epoch 53/100\n",
      "2/2 [==============================] - 3s 777ms/step - loss: 0.0097 - accuracy: 1.0000 - val_loss: 0.6859 - val_accuracy: 0.5500\n",
      "Epoch 54/100\n",
      "2/2 [==============================] - 3s 2s/step - loss: 0.0092 - accuracy: 1.0000 - val_loss: 0.6847 - val_accuracy: 0.6000\n",
      "Epoch 55/100\n",
      "2/2 [==============================] - 3s 841ms/step - loss: 0.0091 - accuracy: 1.0000 - val_loss: 0.6845 - val_accuracy: 0.6000\n",
      "Epoch 56/100\n",
      "2/2 [==============================] - 3s 786ms/step - loss: 0.0088 - accuracy: 1.0000 - val_loss: 0.6846 - val_accuracy: 0.6000\n",
      "Epoch 57/100\n",
      "2/2 [==============================] - 3s 2s/step - loss: 0.0068 - accuracy: 1.0000 - val_loss: 0.6844 - val_accuracy: 0.6000\n",
      "Epoch 58/100\n",
      "2/2 [==============================] - 3s 2s/step - loss: 0.0076 - accuracy: 1.0000 - val_loss: 0.6842 - val_accuracy: 0.6000\n",
      "Epoch 59/100\n"
     ]
    },
    {
     "name": "stdout",
     "output_type": "stream",
     "text": [
      "2/2 [==============================] - 3s 804ms/step - loss: 0.0077 - accuracy: 1.0000 - val_loss: 0.6842 - val_accuracy: 0.6000\n",
      "Epoch 60/100\n",
      "2/2 [==============================] - 3s 2s/step - loss: 0.0122 - accuracy: 1.0000 - val_loss: 0.6827 - val_accuracy: 0.6000\n",
      "Epoch 61/100\n",
      "2/2 [==============================] - 3s 772ms/step - loss: 0.0074 - accuracy: 1.0000 - val_loss: 0.6824 - val_accuracy: 0.6000\n",
      "Epoch 62/100\n",
      "2/2 [==============================] - 3s 784ms/step - loss: 0.0063 - accuracy: 1.0000 - val_loss: 0.6811 - val_accuracy: 0.6000\n",
      "Epoch 63/100\n",
      "2/2 [==============================] - 3s 2s/step - loss: 0.0072 - accuracy: 1.0000 - val_loss: 0.6818 - val_accuracy: 0.6000\n",
      "Epoch 64/100\n",
      "2/2 [==============================] - 3s 779ms/step - loss: 0.0060 - accuracy: 1.0000 - val_loss: 0.6821 - val_accuracy: 0.6000\n",
      "Epoch 65/100\n",
      "2/2 [==============================] - 3s 2s/step - loss: 0.0063 - accuracy: 1.0000 - val_loss: 0.6821 - val_accuracy: 0.6000\n",
      "Epoch 66/100\n",
      "2/2 [==============================] - 3s 776ms/step - loss: 0.0059 - accuracy: 1.0000 - val_loss: 0.6825 - val_accuracy: 0.6000\n",
      "Epoch 67/100\n",
      "2/2 [==============================] - 3s 781ms/step - loss: 0.0048 - accuracy: 1.0000 - val_loss: 0.6824 - val_accuracy: 0.6000\n",
      "Epoch 68/100\n",
      "2/2 [==============================] - 3s 779ms/step - loss: 0.0052 - accuracy: 1.0000 - val_loss: 0.6821 - val_accuracy: 0.6000\n",
      "Epoch 69/100\n",
      "2/2 [==============================] - 3s 804ms/step - loss: 0.0049 - accuracy: 1.0000 - val_loss: 0.6822 - val_accuracy: 0.6000\n",
      "Epoch 70/100\n",
      "2/2 [==============================] - 3s 2s/step - loss: 0.0051 - accuracy: 1.0000 - val_loss: 0.6826 - val_accuracy: 0.6000\n",
      "Epoch 71/100\n",
      "2/2 [==============================] - 3s 797ms/step - loss: 0.0047 - accuracy: 1.0000 - val_loss: 0.6824 - val_accuracy: 0.6000\n",
      "Epoch 72/100\n",
      "2/2 [==============================] - 3s 837ms/step - loss: 0.0048 - accuracy: 1.0000 - val_loss: 0.6815 - val_accuracy: 0.6000\n",
      "Epoch 73/100\n",
      "2/2 [==============================] - 3s 804ms/step - loss: 0.0043 - accuracy: 1.0000 - val_loss: 0.6811 - val_accuracy: 0.6000\n",
      "Epoch 74/100\n",
      "2/2 [==============================] - 3s 2s/step - loss: 0.0045 - accuracy: 1.0000 - val_loss: 0.6815 - val_accuracy: 0.6000\n",
      "Epoch 75/100\n",
      "2/2 [==============================] - 3s 779ms/step - loss: 0.0041 - accuracy: 1.0000 - val_loss: 0.6815 - val_accuracy: 0.6000\n",
      "Epoch 76/100\n",
      "2/2 [==============================] - 3s 831ms/step - loss: 0.0043 - accuracy: 1.0000 - val_loss: 0.6817 - val_accuracy: 0.6000\n",
      "Epoch 77/100\n",
      "2/2 [==============================] - 3s 2s/step - loss: 0.0051 - accuracy: 1.0000 - val_loss: 0.6814 - val_accuracy: 0.6000\n",
      "Epoch 78/100\n",
      "2/2 [==============================] - 3s 787ms/step - loss: 0.0041 - accuracy: 1.0000 - val_loss: 0.6810 - val_accuracy: 0.6000\n",
      "Epoch 79/100\n",
      "2/2 [==============================] - 3s 2s/step - loss: 0.0046 - accuracy: 1.0000 - val_loss: 0.6809 - val_accuracy: 0.6000\n",
      "Epoch 80/100\n",
      "2/2 [==============================] - 3s 788ms/step - loss: 0.0041 - accuracy: 1.0000 - val_loss: 0.6783 - val_accuracy: 0.6000\n",
      "Epoch 81/100\n",
      "2/2 [==============================] - 3s 2s/step - loss: 0.0040 - accuracy: 1.0000 - val_loss: 0.6787 - val_accuracy: 0.6000\n",
      "Epoch 82/100\n",
      "2/2 [==============================] - 3s 2s/step - loss: 0.0040 - accuracy: 1.0000 - val_loss: 0.6783 - val_accuracy: 0.6000\n",
      "Epoch 83/100\n",
      "2/2 [==============================] - 3s 784ms/step - loss: 0.0035 - accuracy: 1.0000 - val_loss: 0.6784 - val_accuracy: 0.6000\n",
      "Epoch 84/100\n",
      "2/2 [==============================] - 3s 2s/step - loss: 0.0035 - accuracy: 1.0000 - val_loss: 0.6784 - val_accuracy: 0.6000\n",
      "Epoch 85/100\n",
      "2/2 [==============================] - 3s 777ms/step - loss: 0.0032 - accuracy: 1.0000 - val_loss: 0.6784 - val_accuracy: 0.6000\n",
      "Epoch 86/100\n",
      "2/2 [==============================] - 3s 2s/step - loss: 0.0038 - accuracy: 1.0000 - val_loss: 0.6783 - val_accuracy: 0.6000\n",
      "Epoch 87/100\n",
      "2/2 [==============================] - 3s 2s/step - loss: 0.0026 - accuracy: 1.0000 - val_loss: 0.6785 - val_accuracy: 0.6000\n",
      "Epoch 88/100\n",
      "2/2 [==============================] - 3s 2s/step - loss: 0.0037 - accuracy: 1.0000 - val_loss: 0.6787 - val_accuracy: 0.6000\n",
      "Epoch 89/100\n",
      "2/2 [==============================] - 3s 2s/step - loss: 0.0025 - accuracy: 1.0000 - val_loss: 0.6786 - val_accuracy: 0.6000\n",
      "Epoch 90/100\n",
      "2/2 [==============================] - 3s 818ms/step - loss: 0.0030 - accuracy: 1.0000 - val_loss: 0.6785 - val_accuracy: 0.6000\n",
      "Epoch 91/100\n",
      "2/2 [==============================] - 3s 2s/step - loss: 0.0045 - accuracy: 1.0000 - val_loss: 0.6775 - val_accuracy: 0.6000\n",
      "Epoch 92/100\n",
      "2/2 [==============================] - 3s 2s/step - loss: 0.0027 - accuracy: 1.0000 - val_loss: 0.6778 - val_accuracy: 0.6000\n",
      "Epoch 93/100\n",
      "2/2 [==============================] - 3s 2s/step - loss: 0.0028 - accuracy: 1.0000 - val_loss: 0.6781 - val_accuracy: 0.6000\n",
      "Epoch 94/100\n",
      "2/2 [==============================] - 3s 2s/step - loss: 0.0028 - accuracy: 1.0000 - val_loss: 0.6783 - val_accuracy: 0.6000\n",
      "Epoch 95/100\n",
      "2/2 [==============================] - 3s 2s/step - loss: 0.0025 - accuracy: 1.0000 - val_loss: 0.6785 - val_accuracy: 0.6000\n",
      "Epoch 96/100\n",
      "2/2 [==============================] - 3s 2s/step - loss: 0.0028 - accuracy: 1.0000 - val_loss: 0.6785 - val_accuracy: 0.6000\n",
      "Epoch 97/100\n",
      "2/2 [==============================] - 3s 2s/step - loss: 0.0029 - accuracy: 1.0000 - val_loss: 0.6787 - val_accuracy: 0.6000\n",
      "Epoch 98/100\n",
      "2/2 [==============================] - 3s 2s/step - loss: 0.0021 - accuracy: 1.0000 - val_loss: 0.6787 - val_accuracy: 0.6000\n",
      "Epoch 99/100\n",
      "2/2 [==============================] - 3s 796ms/step - loss: 0.0026 - accuracy: 1.0000 - val_loss: 0.6790 - val_accuracy: 0.6000\n",
      "Epoch 100/100\n",
      "2/2 [==============================] - 3s 2s/step - loss: 0.0026 - accuracy: 1.0000 - val_loss: 0.6794 - val_accuracy: 0.6000\n"
     ]
    },
    {
     "data": {
      "text/plain": [
       "<tensorflow.python.keras.callbacks.History at 0x2b600244e80>"
      ]
     },
     "execution_count": 95,
     "metadata": {},
     "output_type": "execute_result"
    }
   ],
   "source": [
    "#Fit the train and test data to model and specify the iterations\n",
    "model.fit(train,validation_data=test, epochs=100)"
   ]
  },
  {
   "cell_type": "code",
   "execution_count": 97,
   "metadata": {},
   "outputs": [
    {
     "name": "stdout",
     "output_type": "stream",
     "text": [
      "Model: \"sequential_12\"\n",
      "_________________________________________________________________\n",
      "Layer (type)                 Output Shape              Param #   \n",
      "=================================================================\n",
      "batch_normalization_6 (Batch (None, None, None, 3)     12        \n",
      "_________________________________________________________________\n",
      "conv2d_22 (Conv2D)           (None, None, None, 32)    2432      \n",
      "_________________________________________________________________\n",
      "max_pooling2d_20 (MaxPooling (None, None, None, 32)    0         \n",
      "_________________________________________________________________\n",
      "conv2d_23 (Conv2D)           (None, None, None, 64)    51264     \n",
      "_________________________________________________________________\n",
      "max_pooling2d_21 (MaxPooling (None, None, None, 64)    0         \n",
      "_________________________________________________________________\n",
      "dropout_10 (Dropout)         (None, None, None, 64)    0         \n",
      "_________________________________________________________________\n",
      "flatten_10 (Flatten)         (None, None)              0         \n",
      "_________________________________________________________________\n",
      "dense_20 (Dense)             (None, 32)                7620640   \n",
      "_________________________________________________________________\n",
      "dense_21 (Dense)             (None, 1)                 33        \n",
      "=================================================================\n",
      "Total params: 7,674,381\n",
      "Trainable params: 7,674,375\n",
      "Non-trainable params: 6\n",
      "_________________________________________________________________\n"
     ]
    }
   ],
   "source": [
    "model.summary()"
   ]
  },
  {
   "cell_type": "code",
   "execution_count": 99,
   "metadata": {},
   "outputs": [
    {
     "name": "stdout",
     "output_type": "stream",
     "text": [
      "dict_keys(['loss', 'accuracy', 'val_loss', 'val_accuracy'])\n"
     ]
    }
   ],
   "source": [
    "#Listing the variables in the history\n",
    "print(model.history.history.keys())"
   ]
  },
  {
   "cell_type": "code",
   "execution_count": 101,
   "metadata": {},
   "outputs": [
    {
     "data": {
      "image/png": "[encoded data removed]",
      "text/plain": [
       "<Figure size 432x288 with 1 Axes>"
      ]
     },
     "metadata": {
      "needs_background": "light"
     },
     "output_type": "display_data"
    }
   ],
   "source": [
    "#Summarizing the Accuracy\n",
    "import matplotlib.pyplot as plt\n",
    "\n",
    "plt.plot(model.history.history['val_accuracy'])\n",
    "plt.plot(model.history.history['accuracy'])\n",
    "plt.title(\"Model Accuracy\")\n",
    "plt.xlabel(\"Epoch\")\n",
    "plt.ylabel(\"Accuracy\")\n",
    "plt.legend(['train','test'])\n",
    "plt.show()"
   ]
  },
  {
   "cell_type": "code",
   "execution_count": 102,
   "metadata": {},
   "outputs": [
    {
     "data": {
      "image/png": "[encoded data removed]",
      "text/plain": [
       "<Figure size 432x288 with 1 Axes>"
      ]
     },
     "metadata": {
      "needs_background": "light"
     },
     "output_type": "display_data"
    }
   ],
   "source": [
    "#Summarizing the Loss\n",
    "plt.plot(model.history.history['val_loss'])\n",
    "plt.plot(model.history.history['loss'])\n",
    "plt.title(\"Model Loss\")\n",
    "plt.xlabel(\"Epoch\")\n",
    "plt.ylabel(\"Loss\")\n",
    "plt.legend(['train','test'])\n",
    "plt.show()"
   ]
  },
  {
   "cell_type": "code",
   "execution_count": null,
   "metadata": {},
   "outputs": [],
   "source": []
  }
 ],
 "metadata": {
  "kernelspec": {
   "display_name": "Python 3",
   "language": "python",
   "name": "python3"
  },
  "language_info": {
   "codemirror_mode": {
    "name": "ipython",
    "version": 3
   },
   "file_extension": ".py",
   "mimetype": "text/x-python",
   "name": "python",
   "nbconvert_exporter": "python",
   "pygments_lexer": "ipython3",
   "version": "3.8.5"
  }
 },
 "nbformat": 4,
 "nbformat_minor": 4
}
