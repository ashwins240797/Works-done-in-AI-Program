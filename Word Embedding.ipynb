{
 "cells": [
  {
   "cell_type": "code",
   "execution_count": 1,
   "metadata": {},
   "outputs": [],
   "source": [
    "#pip install gensim==3.8"
   ]
  },
  {
   "cell_type": "code",
   "execution_count": 2,
   "metadata": {},
   "outputs": [],
   "source": [
    "from gensim.models import Word2Vec\n",
    "from nltk.corpus import stopwords\n",
    "import string"
   ]
  },
  {
   "cell_type": "code",
   "execution_count": 3,
   "metadata": {},
   "outputs": [],
   "source": [
    "sentence = [\"SpaceX’s Starship spacecraft and Super Heavy rocket (collectively referred to as Starship) represent a fully reusable transportation system designed to carry both crew and cargo to Earth orbit, the Moon, Mars and beyond. Starship will be the world’s most powerful launch vehicle ever developed, with the ability to carry in excess of 100 metric tonnes to Earth orbit.\"]"
   ]
  },
  {
   "cell_type": "code",
   "execution_count": 4,
   "metadata": {},
   "outputs": [
    {
     "name": "stdout",
     "output_type": "stream",
     "text": [
      "['SpaceX’s', 'Starship', 'spacecraft', 'Super', 'Heavy', 'rocket', '(collectively', 'referred', 'Starship)', 'represent', 'fully', 'reusable', 'transportation', 'system', 'designed', 'carry', 'crew', 'cargo', 'Earth', 'orbit,', 'Moon,', 'Mars', 'beyond.', 'Starship', 'world’s', 'powerful', 'launch', 'vehicle', 'ever', 'developed,', 'ability', 'carry', 'excess', '100', 'metric', 'tonnes', 'Earth', 'orbit.']\n"
     ]
    }
   ],
   "source": [
    "#Remove Punctuations\n",
    "no_punc = [char for char in sentence if char not in string.punctuation]\n",
    "no_punc = ''.join(no_punc)\n",
    "no_punc.split()\n",
    "\n",
    "#eliminate Stopwords\n",
    "new_sentence = [word for word in no_punc.split() if word.lower() not in stopwords.words('english')]\n",
    "print(new_sentence)"
   ]
  },
  {
   "cell_type": "code",
   "execution_count": 9,
   "metadata": {},
   "outputs": [],
   "source": [
    "#Train Model\n",
    "model = Word2Vec(new_sentence,min_count=1,size=50) #each word is represented by a vector of size 50 : This is the embedding size"
   ]
  },
  {
   "cell_type": "code",
   "execution_count": 10,
   "metadata": {},
   "outputs": [
    {
     "data": {
      "text/plain": [
       "{'S': <gensim.models.keyedvectors.Vocab at 0x1e9b8573790>,\n",
       " 'p': <gensim.models.keyedvectors.Vocab at 0x1e9b85732b0>,\n",
       " 'a': <gensim.models.keyedvectors.Vocab at 0x1e9b8573880>,\n",
       " 'c': <gensim.models.keyedvectors.Vocab at 0x1e9b8573280>,\n",
       " 'e': <gensim.models.keyedvectors.Vocab at 0x1e9b8573af0>,\n",
       " 'X': <gensim.models.keyedvectors.Vocab at 0x1e9b8573b50>,\n",
       " '’': <gensim.models.keyedvectors.Vocab at 0x1e9b8573bb0>,\n",
       " 's': <gensim.models.keyedvectors.Vocab at 0x1e9b8573c10>,\n",
       " 't': <gensim.models.keyedvectors.Vocab at 0x1e9b8573c70>,\n",
       " 'r': <gensim.models.keyedvectors.Vocab at 0x1e9b8573850>,\n",
       " 'h': <gensim.models.keyedvectors.Vocab at 0x1e9b8573d00>,\n",
       " 'i': <gensim.models.keyedvectors.Vocab at 0x1e9b8573d60>,\n",
       " 'f': <gensim.models.keyedvectors.Vocab at 0x1e9b85737c0>,\n",
       " 'u': <gensim.models.keyedvectors.Vocab at 0x1e9b8573e20>,\n",
       " 'H': <gensim.models.keyedvectors.Vocab at 0x1e9b8573e80>,\n",
       " 'v': <gensim.models.keyedvectors.Vocab at 0x1e9b8573ee0>,\n",
       " 'y': <gensim.models.keyedvectors.Vocab at 0x1e9b8573f40>,\n",
       " 'o': <gensim.models.keyedvectors.Vocab at 0x1e9b8573fd0>,\n",
       " 'k': <gensim.models.keyedvectors.Vocab at 0x1e9b8573fa0>,\n",
       " '(': <gensim.models.keyedvectors.Vocab at 0x1e9b361e2b0>,\n",
       " 'l': <gensim.models.keyedvectors.Vocab at 0x1e9b361ebb0>,\n",
       " 'd': <gensim.models.keyedvectors.Vocab at 0x1e9b361e1f0>,\n",
       " ')': <gensim.models.keyedvectors.Vocab at 0x1e9b8547cd0>,\n",
       " 'n': <gensim.models.keyedvectors.Vocab at 0x1e9b8547c70>,\n",
       " 'b': <gensim.models.keyedvectors.Vocab at 0x1e9b8547c10>,\n",
       " 'm': <gensim.models.keyedvectors.Vocab at 0x1e9b85479d0>,\n",
       " 'g': <gensim.models.keyedvectors.Vocab at 0x1e9b8547e20>,\n",
       " 'w': <gensim.models.keyedvectors.Vocab at 0x1e9b8547c40>,\n",
       " 'E': <gensim.models.keyedvectors.Vocab at 0x1e9b8547fd0>,\n",
       " ',': <gensim.models.keyedvectors.Vocab at 0x1e9b8547e50>,\n",
       " 'M': <gensim.models.keyedvectors.Vocab at 0x1e9b8595040>,\n",
       " '.': <gensim.models.keyedvectors.Vocab at 0x1e9b85950a0>,\n",
       " 'x': <gensim.models.keyedvectors.Vocab at 0x1e9b8595100>,\n",
       " '1': <gensim.models.keyedvectors.Vocab at 0x1e9b8595160>,\n",
       " '0': <gensim.models.keyedvectors.Vocab at 0x1e9b85951c0>}"
      ]
     },
     "execution_count": 10,
     "metadata": {},
     "output_type": "execute_result"
    }
   ],
   "source": [
    "#Show Vocab\n",
    "model.wv.vocab"
   ]
  },
  {
   "cell_type": "code",
   "execution_count": 11,
   "metadata": {},
   "outputs": [
    {
     "name": "stderr",
     "output_type": "stream",
     "text": [
      "<ipython-input-11-a19831dd0cee>:1: DeprecationWarning: Call to deprecated `__getitem__` (Method will be removed in 4.0.0, use self.wv.__getitem__() instead).\n",
      "  model['e']\n"
     ]
    },
    {
     "data": {
      "text/plain": [
       "array([ 4.2374809e-03, -5.4311445e-03, -6.3672015e-03,  1.8417888e-03,\n",
       "       -5.7469443e-03,  8.0192126e-03, -2.3018082e-03, -1.7633684e-03,\n",
       "        6.4731683e-03,  8.3435299e-03,  8.5403022e-05,  4.5170346e-03,\n",
       "       -6.8109701e-03, -1.1069669e-03, -2.7665668e-03,  6.9735972e-03,\n",
       "        4.4896621e-03, -6.0218563e-03,  8.1496658e-03,  9.8425606e-03,\n",
       "        3.0812071e-04,  3.9828192e-03,  1.7406134e-03,  6.3494458e-03,\n",
       "       -2.9529247e-04,  5.6923660e-03,  1.6579429e-03,  6.1242650e-03,\n",
       "        7.8016398e-03,  1.1433143e-03,  9.9147512e-03,  5.8095781e-03,\n",
       "       -1.4659951e-03, -2.1152517e-03,  8.8940738e-03, -1.2427736e-03,\n",
       "       -3.3120534e-03, -3.6433167e-03,  4.2765201e-03, -9.7381072e-03,\n",
       "       -3.7932869e-03,  1.5879191e-03, -4.2940998e-03, -1.6363334e-03,\n",
       "       -5.9322971e-03,  7.9166861e-03, -4.8430581e-03,  9.7180074e-03,\n",
       "       -6.2181056e-03,  3.9669778e-03], dtype=float32)"
      ]
     },
     "execution_count": 11,
     "metadata": {},
     "output_type": "execute_result"
    }
   ],
   "source": [
    "model['e']"
   ]
  },
  {
   "cell_type": "code",
   "execution_count": 12,
   "metadata": {},
   "outputs": [
    {
     "name": "stderr",
     "output_type": "stream",
     "text": [
      "<ipython-input-12-67efa41fe9eb>:1: DeprecationWarning: Call to deprecated `__getitem__` (Method will be removed in 4.0.0, use self.wv.__getitem__() instead).\n",
      "  model['e'].shape\n"
     ]
    },
    {
     "data": {
      "text/plain": [
       "(50,)"
      ]
     },
     "execution_count": 12,
     "metadata": {},
     "output_type": "execute_result"
    }
   ],
   "source": [
    "model['e'].shape"
   ]
  },
  {
   "cell_type": "code",
   "execution_count": null,
   "metadata": {},
   "outputs": [],
   "source": []
  }
 ],
 "metadata": {
  "kernelspec": {
   "display_name": "Python 3",
   "language": "python",
   "name": "python3"
  },
  "language_info": {
   "codemirror_mode": {
    "name": "ipython",
    "version": 3
   },
   "file_extension": ".py",
   "mimetype": "text/x-python",
   "name": "python",
   "nbconvert_exporter": "python",
   "pygments_lexer": "ipython3",
   "version": "3.8.5"
  }
 },
 "nbformat": 4,
 "nbformat_minor": 4
}
