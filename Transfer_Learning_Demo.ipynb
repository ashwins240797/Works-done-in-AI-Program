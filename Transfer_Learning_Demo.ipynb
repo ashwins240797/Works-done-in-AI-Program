{
 "cells": [
  {
   "cell_type": "markdown",
   "metadata": {
    "colab_type": "text",
    "id": "7YEHvXIpOIfh"
   },
   "source": [
    "# **Transfer Learning with ResNet50**"
   ]
  },
  {
   "cell_type": "markdown",
   "metadata": {
    "colab_type": "text",
    "id": "zqwEsXW6OWJx"
   },
   "source": [
    "## **Problem Statement**"
   ]
  },
  {
   "cell_type": "markdown",
   "metadata": {
    "colab_type": "text",
    "id": "QXFDj2kmOa9s"
   },
   "source": [
    "Classify the images of cats and dogs in a dataset using ResNet50."
   ]
  },
  {
   "cell_type": "markdown",
   "metadata": {
    "colab_type": "text",
    "id": "CVKIKSQ1g-s-"
   },
   "source": [
    "### **Objective**"
   ]
  },
  {
   "cell_type": "markdown",
   "metadata": {
    "colab_type": "text",
    "id": "OzTFHporOyJp"
   },
   "source": [
    "Perform Transfer Learning using the ResNet50 pre-trained weights\n",
    "\n",
    "The resnet50 folder has 2 pre-trained weights files:\n",
    "* xyz_tf_kernels.h5: It is useful for pure prediction of test image and this prediction will rely completely on ResNet50 pre-trained weights, i.e., it does not expected any training from our side.\n",
    "<br>\n",
    "\n",
    "* xyz_tf_kernels_NOTOP.h5: It is a top layer weight that is used as initial weight for training new layer using train images.\n",
    " "
   ]
  },
  {
   "cell_type": "markdown",
   "metadata": {
    "colab_type": "text",
    "id": "y51lC9CPPc76"
   },
   "source": [
    "### **Import the Dependencies**"
   ]
  },
  {
   "cell_type": "code",
   "execution_count": 0,
   "metadata": {
    "colab": {},
    "colab_type": "code",
    "id": "OlSMSABKQJch"
   },
   "outputs": [],
   "source": [
    "import pandas as pd\n",
    "import numpy as np\n",
    "import seaborn as sns\n",
    "import matplotlib.pyplot as plt\n",
    "\n",
    "import os, cv2, random\n",
    "from tqdm import tqdm\n",
    "from random import shuffle\n",
    "\n",
    "%matplotlib inline"
   ]
  },
  {
   "cell_type": "markdown",
   "metadata": {
    "colab_type": "text",
    "id": "EHfoJv7NPuNr"
   },
   "source": [
    "### **Define constant values**"
   ]
  },
  {
   "cell_type": "code",
   "execution_count": 0,
   "metadata": {
    "colab": {},
    "colab_type": "code",
    "id": "uG97b2E9Pxkl"
   },
   "outputs": [],
   "source": [
    "TRAIN_DIR = 'Path of train dataset'\n",
    "TEST_DIR = 'Path of test dataset'\n",
    "NUM_CLASSES = 2\n",
    "IMG_SIZE = 224\n",
    "EPOCHS = 20\n",
    "\n",
    "train_images = os.listdir(TRAIN_DIR)#For testing \n",
    "test_images = os.listdir(TEST_DIR)"
   ]
  },
  {
   "cell_type": "markdown",
   "metadata": {
    "colab_type": "text",
    "id": "6yRw-u63QJcn"
   },
   "source": [
    "### **Generate Arrays**"
   ]
  },
  {
   "cell_type": "code",
   "execution_count": 0,
   "metadata": {
    "colab": {},
    "colab_type": "code",
    "id": "ZayRY-J-QJco",
    "outputId": "5324ac01-e29b-49ad-aab0-664f9a4b917f"
   },
   "outputs": [
    {
     "name": "stderr",
     "output_type": "stream",
     "text": [
      "100%|███████████████████████████████████████████████████████████████████████████| 25000/25000 [03:00<00:00, 138.83it/s]\n"
     ]
    }
   ],
   "source": [
    "# Get an array [cat, dog] of image\n",
    "def label_img(img):\n",
    "    word_label = img.split('.')[-3]\n",
    "    if word_label == 'cat': return [1, 0]\n",
    "    elif word_label == 'dog' : return [0, 1]\n",
    "\n",
    "# Get a numpy array of test and train data\n",
    "def create_train_data():\n",
    "    training_data = []\n",
    "    for img in tqdm(train_images):\n",
    "        label = label_img(img)\n",
    "        img_path = os.path.join(TRAIN_DIR, img)\n",
    "        img = cv2.imread(img_path, cv2.IMREAD_ANYCOLOR)\n",
    "        img = cv2.resize(img, (IMG_SIZE, IMG_SIZE))\n",
    "        training_data.append([np.array(img), np.array(label)])\n",
    "    shuffle(training_data)\n",
    "    return training_data\n",
    "\n",
    "def process_test_data():\n",
    "    testing_data = []\n",
    "    for img in tqdm(test_images):\n",
    "        path = os.path.join(TEST_DIR,img)\n",
    "        img_num = img.split('.')[0]\n",
    "        img = cv2.imread(path,cv2.IMREAD_COLOR)\n",
    "        img = cv2.resize(img, (IMG_SIZE,IMG_SIZE))\n",
    "        testing_data.append([np.array(img), img_num])\n",
    "    shuffle(testing_data)\n",
    "    return testing_data\n",
    "\n",
    "training_data = create_train_data()\n",
    "X = np.array([i[0] for i in training_data]).reshape(-1, IMG_SIZE, IMG_SIZE, 3)\n",
    "y = np.array([i[1] for i in training_data])"
   ]
  },
  {
   "cell_type": "markdown",
   "metadata": {
    "colab_type": "text",
    "id": "8IxIM9ofQJcr"
   },
   "source": [
    "### **Import the Libraries**"
   ]
  },
  {
   "cell_type": "code",
   "execution_count": 0,
   "metadata": {
    "colab": {},
    "colab_type": "code",
    "id": "7V8WR96JQJcr"
   },
   "outputs": [],
   "source": [
    "from keras.applications import ResNet50\n",
    "from keras.models import Sequential\n",
    "from keras import optimizers\n",
    "from keras.layers import Dense"
   ]
  },
  {
   "cell_type": "markdown",
   "metadata": {
    "colab_type": "text",
    "id": "YrOOW623QJcu"
   },
   "source": [
    "### **Define the Path and Create the Model**"
   ]
  },
  {
   "cell_type": "code",
   "execution_count": 0,
   "metadata": {
    "colab": {},
    "colab_type": "code",
    "id": "4QtGZNZAQJcu"
   },
   "outputs": [],
   "source": [
    "# Path of ResNet50 pre-trained weights except its TOP layer,\n",
    "RESNET_WEIGHTS_PATH = 'Path of resnet50_weights_tf_dim_ordering_tf_kernels_notop.h5'\n",
    "\n",
    "model = Sequential()\n",
    "model.add(ResNet50(include_top = False,\n",
    "                   pooling = 'max',\n",
    "                   weights = RESNET_WEIGHTS_PATH))\n",
    "model.add(Dense(NUM_CLASSES, activation= 'softmax'))\n",
    "model.layers[0].trainable = False\n",
    "\n",
    "# Compile the Transfer Learning Model\n",
    "sgd = optimizers.SGD(lr = 1e-3, decay = 1e-6, momentum = 0.1, nesterov=True)\n",
    "model.compile(optimizer= sgd, loss = 'categorical_crossentropy', metrics= ['accuracy'])\n",
    "\n",
    "model.summary()"
   ]
  },
  {
   "cell_type": "markdown",
   "metadata": {
    "colab_type": "text",
    "id": "XkIEwaBAQJcx"
   },
   "source": [
    "### **Train the Model**"
   ]
  },
  {
   "cell_type": "code",
   "execution_count": 0,
   "metadata": {
    "colab": {},
    "colab_type": "code",
    "id": "GbpIx8xiQJcx"
   },
   "outputs": [],
   "source": [
    "from keras.callbacks import ModelCheckpoint, ReduceLROnPlateau\n",
    "check_point = ModelCheckpoint('BestModel.hdf5', verbose=True, save_best_only=True)\n",
    "lr_reduce = ReduceLROnPlateau(monitor='val_acc', factor=0.1, min_delta=0.0001, patience=3, verbose=1)\n",
    "history = model.fit(X, y,\n",
    "                    validation_split=0.2,\n",
    "                    callbacks = [check_point, lr_reduce],\n",
    "                    epochs=EPOCHS,\n",
    "                    batch_size=80,\n",
    "                    verbose=1)"
   ]
  },
  {
   "cell_type": "markdown",
   "metadata": {
    "colab_type": "text",
    "id": "Sr2WarhrQJc0"
   },
   "source": [
    "### **Plot the Model and Summarize the Loss**"
   ]
  },
  {
   "cell_type": "code",
   "execution_count": 0,
   "metadata": {
    "colab": {},
    "colab_type": "code",
    "id": "A6tTQe-TQJc0"
   },
   "outputs": [],
   "source": [
    "# Plotting loss and accuracy for the model\n",
    "plt.plot(history.history['acc'])\n",
    "plt.plot(history.history['val_acc'])\n",
    "plt.title('model accuracy')\n",
    "plt.ylabel('accuracy')\n",
    "plt.xlabel('epoch')\n",
    "plt.legend(['train', 'test'], loc='upper left')\n",
    "plt.show()\n",
    "# summarize history for loss\n",
    "plt.plot(history.history['loss'])\n",
    "plt.plot(history.history['val_loss'])\n",
    "plt.title('model loss')\n",
    "plt.ylabel('loss')\n",
    "plt.xlabel('epoch')\n",
    "plt.legend(['train', 'test'], loc='upper left')\n",
    "plt.show()"
   ]
  },
  {
   "cell_type": "markdown",
   "metadata": {
    "colab_type": "text",
    "id": "WyVZfv04QJc3"
   },
   "source": [
    "### **Test the Model**"
   ]
  },
  {
   "cell_type": "code",
   "execution_count": 0,
   "metadata": {
    "colab": {},
    "colab_type": "code",
    "id": "LX_3QJKQQJc3"
   },
   "outputs": [],
   "source": [
    "# Making space\n",
    "import gc\n",
    "del X, y, training_data\n",
    "gc.collect()\n",
    "\n",
    "# Loading the best model\n",
    "from keras.models import load_model\n",
    "model = load_model('BestModel.hdf5')\n",
    "\n",
    "# Testing the model on test dataset\n",
    "test_data = process_test_data()\n",
    "fig =plt.figure()\n",
    "for num, data in enumerate(test_data[:12]):\n",
    "    # Cat: [1, 0]\n",
    "    # Dog: [0, 1]\n",
    "    img_num = data[1]\n",
    "    img_data = data[0]\n",
    "    \n",
    "    y = fig.add_subplot(3, 4, num+1)\n",
    "    data = img_data.reshape(-1, IMG_SIZE, IMG_SIZE, 3)\n",
    "    model_out = model.predict([data])[0]\n",
    "    \n",
    "    if np.argmax(model_out) == 1 : str_label ='Dog'\n",
    "    else: str_label = 'Cat'\n",
    "    y.imshow(img_data)\n",
    "    plt.title(str_label)\n",
    "    y.axes.get_xaxis().set_visible(False);\n",
    "    y.axes.get_yaxis().set_visible(False);\n",
    "plt.show()"
   ]
  },
  {
   "cell_type": "markdown",
   "metadata": {
    "colab_type": "text",
    "id": "Vb33O4FeQJc7"
   },
   "source": [
    "### **Obtain the Result**"
   ]
  },
  {
   "cell_type": "code",
   "execution_count": 0,
   "metadata": {
    "colab": {},
    "colab_type": "code",
    "id": "cn_P2TiEQJc8"
   },
   "outputs": [],
   "source": [
    "prob = []\n",
    "img_list = []\n",
    "for data in tqdm(test_data):\n",
    "        img_num = data[1]\n",
    "        img_data = data[0]\n",
    "        orig = img_data\n",
    "        data = img_data.reshape(-1,IMG_SIZE,IMG_SIZE,3)\n",
    "        model_out = model.predict([data])[0]\n",
    "        img_list.append(img_num)\n",
    "        prob.append(model_out[1])\n",
    "    \n",
    "result = pd.DataFrame({'id':img_list , 'label':prob})\n",
    "print(result.head())"
   ]
  }
 ],
 "metadata": {
  "colab": {
   "collapsed_sections": [],
   "name": "Transfer_Learning_Demo.ipynb",
   "provenance": []
  },
  "kernelspec": {
   "display_name": "Python 3",
   "language": "python",
   "name": "python3"
  },
  "language_info": {
   "codemirror_mode": {
    "name": "ipython",
    "version": 3
   },
   "file_extension": ".py",
   "mimetype": "text/x-python",
   "name": "python",
   "nbconvert_exporter": "python",
   "pygments_lexer": "ipython3",
   "version": "3.8.5"
  }
 },
 "nbformat": 4,
 "nbformat_minor": 1
}
